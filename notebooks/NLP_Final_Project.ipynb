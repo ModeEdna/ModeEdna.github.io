{
  "cells": [
    {
      "cell_type": "raw",
      "metadata": {},
      "source": [
        "---\n",
        "pdf-engine: lualatex\n",
        "format:\n",
        "  html:\n",
        "    toc: true\n",
        "    code-fold: true\n",
        "    toc-title: Contents\n",
        "    number-sections: false\n",
        "execute:\n",
        "  echo: true\n",
        "---"
      ]
    },
    {
      "attachments": {},
      "cell_type": "markdown",
      "metadata": {
        "id": "1mwFFKudmEHm"
      },
      "source": [
        "# NLP Final Project\n",
        "\n",
        "-----\n",
        "\n",
        "### ANLY-580: Natural Language Processing\n",
        "\n",
        "This notebook contains the code required to perform Python script generation as a part of Georgetown University's ANLY-580 Final Project.\n",
        "\n",
        "Authors:\n",
        "\n",
        "- Eduardo Armenta (ea795@georgetown.edu)\n",
        "- Landon Carpenter (lc1276@georgetown.edu)\n",
        "- Matthew Moriarty (mdm341@georgetown.edu)\n",
        "\n",
        "In this notebook, we will use a Generative Pre-Trained Transformer (GPT) model in order to generate Python scripts from given English prompts. An example of this is as follows:\n",
        "\n",
        "```\n",
        "## Input - English Prompt\n",
        "\"write a python function that computes the maximum of three integers\"\n",
        "\n",
        "## Output - Python Script\n",
        "def (num1, num2, num3):\n",
        "  max = num1\n",
        "  if num2 > max:\n",
        "    max = num2\n",
        "  if num3 > max:\n",
        "    max = num3\n",
        "  return max\n",
        "```\n",
        "\n",
        "In order to accomplish this task, we will heavily utilize `Hugging Face` and `PyTorch`. These resources provide libraries such as `transformers` and `torch` that will be very useful to us in accomplishing our task.\n",
        "\n",
        "We will also utilize Google Colab in order to obtain the computations resources required for training our model. Here, we can use GPUs - rather than CPUs - to perform the heavy computational tasks required by our model. As such, it is important to find the `Runtime` tab above, navigate to `Change runtime type`, and select the `GPU` hardware accelerator.\n",
        "\n",
        "**Note**: Please note that, through our vast model training process, we each consumed all our allotted GPU compute time on Google Colab, including that of a Google Colab Pro subscription. As a result, this notebook contains all code required to perform our Python script generation task; however, it does not contain our highest-achieving results. These results, generated prior to consuming our allotted resources, have been included below in the form of screenshots from previous runs. The *current* results appear sub-optimal due to the expiration of resources on the current training session."
      ]
    },
    {
      "cell_type": "markdown",
      "metadata": {
        "id": "d_INAKyQqYBE"
      },
      "source": [
        "# Setup\n",
        "\n",
        "In this section, we ensure that our Google Colab environment is equipped with the necessary resources before proceeding with our task.\n",
        "\n",
        "## Installing Necessary Libraries\n",
        "\n",
        "Before we begin building our models and completing our task, we must ensure that we have the necessary libraries installed. Here, we will install the following:\n",
        "\n",
        "* `transformers`: this library allows us to access our GPT2 model, tokenizer, and other resources."
      ]
    },
    {
      "cell_type": "code",
      "execution_count": null,
      "metadata": {
        "id": "0878V6ZFK7ou"
      },
      "outputs": [],
      "source": [
        "# install transformers\n",
        "!pip install transformers"
      ]
    },
    {
      "cell_type": "markdown",
      "metadata": {
        "id": "0PgiKihXrrvi"
      },
      "source": [
        "Google Colab already has the other libraries that we need installed, such as `torch`, `pandas`, and `numpy`, so we can proceed with importing these libraries into our Python environment.\n",
        "\n",
        "## Importing Necessary Libraries\n",
        "\n",
        "With the required libraries installed on Google Colab, we can import them into our Python environment."
      ]
    },
    {
      "cell_type": "code",
      "execution_count": 4,
      "metadata": {
        "id": "7Nx3ygcwLIhD"
      },
      "outputs": [],
      "source": [
        "# perform necessary imports\n",
        "\n",
        "# data manipulation libraries\n",
        "import pandas as pd\n",
        "import numpy as np\n",
        "\n",
        "# function for training-testing split\n",
        "from sklearn.model_selection import train_test_split\n",
        "\n",
        "# huggingface transformer libraries\n",
        "import transformers\n",
        "from transformers import GPT2Tokenizer, GPT2LMHeadModel\n",
        "from transformers import get_linear_schedule_with_warmup\n",
        "\n",
        "# pytorch libraries\n",
        "import torch\n",
        "from torch.optim import AdamW\n",
        "from torch.utils.data import Dataset, DataLoader, random_split\n",
        "\n",
        "# progress bar for model training\n",
        "from tqdm.auto import tqdm\n",
        "\n",
        "# Image library for displaying images\n",
        "from IPython.display import Image"
      ]
    },
    {
      "cell_type": "markdown",
      "metadata": {
        "id": "bU9vyckwyThs"
      },
      "source": [
        "## Uploading the Data\n",
        "\n",
        "In order to access the data that we'd like to use for our Python script generation task, we must upload it to Google Colab in a location that is accessible to us. We will upload our data, contained in the `pythonTextData.txt` file, to the current working directory provided by Google Colab."
      ]
    },
    {
      "cell_type": "markdown",
      "metadata": {
        "id": "PVrKfrTD0gBC"
      },
      "source": [
        "# Prepare the Data\n",
        "\n",
        "In this section, we prepare our data for use in our Python script generation task.\n",
        "\n",
        "## Read in the Data\n",
        "\n",
        "We first must read in the data. As specified in the previous section, we will be reading this data from the following location: `./pythonTextData.txt`."
      ]
    },
    {
      "cell_type": "code",
      "execution_count": 5,
      "metadata": {
        "colab": {
          "base_uri": "https://localhost:8080/"
        },
        "id": "1EexIrY0LXh1",
        "outputId": "80a45706-147e-40ae-93cd-b93f68b979b4"
      },
      "outputs": [
        {
          "name": "stdout",
          "output_type": "stream",
          "text": [
            "The data has been read in successfully.\n",
            "The data contains 42745 lines.\n"
          ]
        }
      ],
      "source": [
        "# read in the data using a try-catch block for error-handling\n",
        "try:  \n",
        "  with open(\"./pythonTextData.txt\", \"r\", encoding = \"utf8\") as file:\n",
        "    # read in the file as a list of lines\n",
        "    lines = file.readlines()\n",
        "    # report success and number of lines read in\n",
        "    print('The data has been read in successfully.')\n",
        "    print('The data contains', len(lines), 'lines.')\n",
        "except:\n",
        "  # report failure by raising exception\n",
        "  raise Exception('There was a problem reading in the data.')"
      ]
    },
    {
      "cell_type": "markdown",
      "metadata": {
        "id": "bTz2cINv3K9q"
      },
      "source": [
        "## Preprocess the Data\n",
        "\n",
        "We have read in our data, but we need to extract the information we need from it. The first several lines of the data look like the following:\n",
        "\n",
        "```\n",
        "# write a python program to add two numbers\n",
        "num1 = 1.5\n",
        "num2 = 6.3\n",
        "sum = num1 + num2\n",
        "print(f'Sum: {sum}')\n",
        "\n",
        "\n",
        "# write a python function to add two user provided numbers and return the sum\n",
        "def add_two_numbers(num1, num2):\n",
        "    sum = num1 + num2\n",
        "    return sum\n",
        "```\n",
        "\n",
        "As we can see, the data is formatted in such a way that each prompt is on a line of its own and starts with a `#` character, just like a Python in-line comment. Each prompt is then followed by one or more lines that define the Python code that completes the task that the prompt raises. Finally, these code blocks are followed by two empty lines before the next prompt appears. We can utilize this structure in order to extract each prompt and its corresponding Python code block."
      ]
    },
    {
      "cell_type": "code",
      "execution_count": 6,
      "metadata": {
        "id": "eH9bcqNIMuug"
      },
      "outputs": [],
      "source": [
        "# collect all indices of lines with '#'\n",
        "src_indexes = [i for i, line in enumerate(lines) if line.startswith('#')]\n",
        "# extract all those lines for use in the source column\n",
        "src = [lines[i].lower() for i in src_indexes]\n",
        "\n",
        "# collect all the targets by extracting the lines between the indices of the sources\n",
        "tgt = [''.join(lines[src_indexes[i]+1:src_indexes[i+1]]).lower() for i, value in enumerate(src_indexes[:-1])]\n",
        "# retrieve the last one as it is not captured by the line above\n",
        "tgt.append(''.join(lines[src_indexes[-1]+1:]))\n",
        "\n",
        "# assert that we collected the same number of sources and targets\\n\",\n",
        "assert len(src) == len(tgt), 'The number of sources (prompts) collected does not equal the number of targets (code blocks) collected.'\n",
        "\n",
        "# place source-target pairs into a data frame\n",
        "python_df = pd.DataFrame({'src':src, 'tgt':tgt})\n",
        "\n",
        "# create a new column that is the concatenation of each source-target pair\n",
        "python_df['txt'] = python_df['src'] + ' | ' + python_df['tgt']"
      ]
    },
    {
      "cell_type": "markdown",
      "metadata": {
        "id": "L8lAMuNd93ml"
      },
      "source": [
        "It's important to visually observe what we have done in our preprocessing steps, so let's take a look at the first few rows of the data frame."
      ]
    },
    {
      "cell_type": "code",
      "execution_count": 7,
      "metadata": {
        "colab": {
          "base_uri": "https://localhost:8080/",
          "height": 206
        },
        "id": "0JmEHnaY9_IS",
        "outputId": "85c82081-69b4-4f3a-cdf3-6c5488625607"
      },
      "outputs": [
        {
          "data": {
            "text/html": [
              "\n",
              "  <div id=\"df-a352f17b-4419-4dc8-b6d2-2c66c5b49eb3\">\n",
              "    <div class=\"colab-df-container\">\n",
              "      <div>\n",
              "<style scoped>\n",
              "    .dataframe tbody tr th:only-of-type {\n",
              "        vertical-align: middle;\n",
              "    }\n",
              "\n",
              "    .dataframe tbody tr th {\n",
              "        vertical-align: top;\n",
              "    }\n",
              "\n",
              "    .dataframe thead th {\n",
              "        text-align: right;\n",
              "    }\n",
              "</style>\n",
              "<table border=\"1\" class=\"dataframe\">\n",
              "  <thead>\n",
              "    <tr style=\"text-align: right;\">\n",
              "      <th></th>\n",
              "      <th>src</th>\n",
              "      <th>tgt</th>\n",
              "      <th>txt</th>\n",
              "    </tr>\n",
              "  </thead>\n",
              "  <tbody>\n",
              "    <tr>\n",
              "      <th>0</th>\n",
              "      <td># write a python program to add two numbers \\n</td>\n",
              "      <td>num1 = 1.5\\nnum2 = 6.3\\nsum = num1 + num2\\npri...</td>\n",
              "      <td># write a python program to add two numbers \\n...</td>\n",
              "    </tr>\n",
              "    <tr>\n",
              "      <th>1</th>\n",
              "      <td># write a python function to add two user prov...</td>\n",
              "      <td>def add_two_numbers(num1, num2):\\n    sum = nu...</td>\n",
              "      <td># write a python function to add two user prov...</td>\n",
              "    </tr>\n",
              "    <tr>\n",
              "      <th>2</th>\n",
              "      <td># write a program to find and print the larges...</td>\n",
              "      <td>\\nnum1 = 10\\nnum2 = 12\\nnum3 = 14\\nif (num1 &gt;=...</td>\n",
              "      <td># write a program to find and print the larges...</td>\n",
              "    </tr>\n",
              "    <tr>\n",
              "      <th>3</th>\n",
              "      <td># write a program to find and print the smalle...</td>\n",
              "      <td>num1 = 10\\nnum2 = 12\\nnum3 = 14\\nif (num1 &lt;= n...</td>\n",
              "      <td># write a program to find and print the smalle...</td>\n",
              "    </tr>\n",
              "    <tr>\n",
              "      <th>4</th>\n",
              "      <td># write a python function to merge two given l...</td>\n",
              "      <td>def merge_lists(l1, l2):\\n    return l1 + l2\\n...</td>\n",
              "      <td># write a python function to merge two given l...</td>\n",
              "    </tr>\n",
              "  </tbody>\n",
              "</table>\n",
              "</div>\n",
              "      <button class=\"colab-df-convert\" onclick=\"convertToInteractive('df-a352f17b-4419-4dc8-b6d2-2c66c5b49eb3')\"\n",
              "              title=\"Convert this dataframe to an interactive table.\"\n",
              "              style=\"display:none;\">\n",
              "        \n",
              "  <svg xmlns=\"http://www.w3.org/2000/svg\" height=\"24px\"viewBox=\"0 0 24 24\"\n",
              "       width=\"24px\">\n",
              "    <path d=\"M0 0h24v24H0V0z\" fill=\"none\"/>\n",
              "    <path d=\"M18.56 5.44l.94 2.06.94-2.06 2.06-.94-2.06-.94-.94-2.06-.94 2.06-2.06.94zm-11 1L8.5 8.5l.94-2.06 2.06-.94-2.06-.94L8.5 2.5l-.94 2.06-2.06.94zm10 10l.94 2.06.94-2.06 2.06-.94-2.06-.94-.94-2.06-.94 2.06-2.06.94z\"/><path d=\"M17.41 7.96l-1.37-1.37c-.4-.4-.92-.59-1.43-.59-.52 0-1.04.2-1.43.59L10.3 9.45l-7.72 7.72c-.78.78-.78 2.05 0 2.83L4 21.41c.39.39.9.59 1.41.59.51 0 1.02-.2 1.41-.59l7.78-7.78 2.81-2.81c.8-.78.8-2.07 0-2.86zM5.41 20L4 18.59l7.72-7.72 1.47 1.35L5.41 20z\"/>\n",
              "  </svg>\n",
              "      </button>\n",
              "      \n",
              "  <style>\n",
              "    .colab-df-container {\n",
              "      display:flex;\n",
              "      flex-wrap:wrap;\n",
              "      gap: 12px;\n",
              "    }\n",
              "\n",
              "    .colab-df-convert {\n",
              "      background-color: #E8F0FE;\n",
              "      border: none;\n",
              "      border-radius: 50%;\n",
              "      cursor: pointer;\n",
              "      display: none;\n",
              "      fill: #1967D2;\n",
              "      height: 32px;\n",
              "      padding: 0 0 0 0;\n",
              "      width: 32px;\n",
              "    }\n",
              "\n",
              "    .colab-df-convert:hover {\n",
              "      background-color: #E2EBFA;\n",
              "      box-shadow: 0px 1px 2px rgba(60, 64, 67, 0.3), 0px 1px 3px 1px rgba(60, 64, 67, 0.15);\n",
              "      fill: #174EA6;\n",
              "    }\n",
              "\n",
              "    [theme=dark] .colab-df-convert {\n",
              "      background-color: #3B4455;\n",
              "      fill: #D2E3FC;\n",
              "    }\n",
              "\n",
              "    [theme=dark] .colab-df-convert:hover {\n",
              "      background-color: #434B5C;\n",
              "      box-shadow: 0px 1px 3px 1px rgba(0, 0, 0, 0.15);\n",
              "      filter: drop-shadow(0px 1px 2px rgba(0, 0, 0, 0.3));\n",
              "      fill: #FFFFFF;\n",
              "    }\n",
              "  </style>\n",
              "\n",
              "      <script>\n",
              "        const buttonEl =\n",
              "          document.querySelector('#df-a352f17b-4419-4dc8-b6d2-2c66c5b49eb3 button.colab-df-convert');\n",
              "        buttonEl.style.display =\n",
              "          google.colab.kernel.accessAllowed ? 'block' : 'none';\n",
              "\n",
              "        async function convertToInteractive(key) {\n",
              "          const element = document.querySelector('#df-a352f17b-4419-4dc8-b6d2-2c66c5b49eb3');\n",
              "          const dataTable =\n",
              "            await google.colab.kernel.invokeFunction('convertToInteractive',\n",
              "                                                     [key], {});\n",
              "          if (!dataTable) return;\n",
              "\n",
              "          const docLinkHtml = 'Like what you see? Visit the ' +\n",
              "            '<a target=\"_blank\" href=https://colab.research.google.com/notebooks/data_table.ipynb>data table notebook</a>'\n",
              "            + ' to learn more about interactive tables.';\n",
              "          element.innerHTML = '';\n",
              "          dataTable['output_type'] = 'display_data';\n",
              "          await google.colab.output.renderOutput(dataTable, element);\n",
              "          const docLink = document.createElement('div');\n",
              "          docLink.innerHTML = docLinkHtml;\n",
              "          element.appendChild(docLink);\n",
              "        }\n",
              "      </script>\n",
              "    </div>\n",
              "  </div>\n",
              "  "
            ],
            "text/plain": [
              "                                                 src  \\\n",
              "0     # write a python program to add two numbers \\n   \n",
              "1  # write a python function to add two user prov...   \n",
              "2  # write a program to find and print the larges...   \n",
              "3  # write a program to find and print the smalle...   \n",
              "4  # write a python function to merge two given l...   \n",
              "\n",
              "                                                 tgt  \\\n",
              "0  num1 = 1.5\\nnum2 = 6.3\\nsum = num1 + num2\\npri...   \n",
              "1  def add_two_numbers(num1, num2):\\n    sum = nu...   \n",
              "2  \\nnum1 = 10\\nnum2 = 12\\nnum3 = 14\\nif (num1 >=...   \n",
              "3  num1 = 10\\nnum2 = 12\\nnum3 = 14\\nif (num1 <= n...   \n",
              "4  def merge_lists(l1, l2):\\n    return l1 + l2\\n...   \n",
              "\n",
              "                                                 txt  \n",
              "0  # write a python program to add two numbers \\n...  \n",
              "1  # write a python function to add two user prov...  \n",
              "2  # write a program to find and print the larges...  \n",
              "3  # write a program to find and print the smalle...  \n",
              "4  # write a python function to merge two given l...  "
            ]
          },
          "execution_count": 7,
          "metadata": {},
          "output_type": "execute_result"
        }
      ],
      "source": [
        "# display the first five rows of the data frame\n",
        "python_df.head(5)"
      ]
    },
    {
      "cell_type": "markdown",
      "metadata": {
        "id": "s8dTGFHccfFO"
      },
      "source": [
        "The last task that we want to complete here is splitting the data into training and testing sets. In the unique case of our Python script generation task, we will actually retain nearly all the data for model training and hold out **10** prompts for testing. We believe that this will allow our model to train as fully as it can, while still allowing us to use prompts from the data for testing.\n",
        "\n",
        "We can print the shape of each data frame in order to ensure that this split is performed correctly. With 4,958 initial source-target pairs, we should see that **4,948** are kept in the training set and **10** are placed in the testing set."
      ]
    },
    {
      "cell_type": "code",
      "execution_count": 8,
      "metadata": {
        "colab": {
          "base_uri": "https://localhost:8080/"
        },
        "id": "B-Xpdf0RdWC9",
        "outputId": "f04b8cfb-3c36-4a6d-f323-8c3dda1826ad"
      },
      "outputs": [
        {
          "name": "stdout",
          "output_type": "stream",
          "text": [
            "Training Set Shape: (4948, 3)\n",
            "Testing Set Shape: (10, 3)\n"
          ]
        }
      ],
      "source": [
        "# retain 10 prompts for testing, keep the rest for training\n",
        "python_df_train, python_df_test = train_test_split(python_df, test_size = 10)\n",
        "\n",
        "# report the shape of each set\n",
        "print('Training Set Shape:', python_df_train.shape)\n",
        "print('Testing Set Shape:', python_df_test.shape)"
      ]
    },
    {
      "cell_type": "markdown",
      "metadata": {
        "id": "IPGPiA4U-Yic"
      },
      "source": [
        "# Construct the Model\n",
        "\n",
        "In this section, we will prepare the rest of our resources for our Python script generation task. Here, we will create our model using the `GPT2Tokenizer` and the `GPT2LMHeadModel` from the `transformers` library, create a simple `Dataset` class specific to our task, and utilize the `DataLoader` from the `torch.utils` library in order to provide our data to our model.\n",
        "\n",
        "## Define Hyperparameters\n",
        "\n",
        "We can first define some hyperparameters that we will use throughout this section. These include:\n",
        "\n",
        "* `bsize`: the batch size to use when batching data\n",
        "* `epochs`: the number of epochs to use in training\n",
        "* `lr_init`: the initial rate by which the model learns\n",
        "* `warmup_steps`: the number of steps to take during training before utilizing the initialized learning rate\n",
        "\n",
        "Note that we will use a very small batch size (`bsize = 2`) in order to preserve limited memory resources on Google Colab's GPU.\n"
      ]
    },
    {
      "cell_type": "code",
      "execution_count": null,
      "metadata": {
        "id": "XpMU10uzTnOg"
      },
      "outputs": [],
      "source": [
        "# define hyperparameters\n",
        "bsize = 2\n",
        "epochs = 5\n",
        "lr_init = 1e-5\n",
        "warmup_steps = 100"
      ]
    },
    {
      "cell_type": "markdown",
      "metadata": {
        "id": "mJ1df9ugTnwB"
      },
      "source": [
        "## Build the Tokenizer\n",
        "\n",
        "We will retrieve our tokenizer using the pretrained `gpt2` option provided by Hugging Face. We also include additional special tokens, as follows:\n",
        "\n",
        "* Beginning of Sentence (BOS) Token: `<SOS>`\n",
        "* End of Sentence (EOS) Token: `<EOS>`\n",
        "* Pad (PAD) Token: `<PAD>`"
      ]
    },
    {
      "cell_type": "code",
      "execution_count": null,
      "metadata": {
        "colab": {
          "base_uri": "https://localhost:8080/"
        },
        "id": "ZVs-k9WY_cZI",
        "outputId": "2e547783-3153-4498-b7d9-8c10eee5c2d1"
      },
      "outputs": [
        {
          "name": "stderr",
          "output_type": "stream",
          "text": [
            "Special tokens have been added in the vocabulary, make sure the associated word embeddings are fine-tuned or trained.\n"
          ]
        }
      ],
      "source": [
        "# initialize the tokenizer\n",
        "tokenizer = GPT2Tokenizer.from_pretrained('gpt2', bos_token='<SOS>', eos_token='<EOS>', pad_token='<PAD>')"
      ]
    },
    {
      "cell_type": "markdown",
      "metadata": {
        "id": "o9UCWvQID4kC"
      },
      "source": [
        "## Build the Dataset\n",
        "\n",
        "We will use `torch.utils.data`'s `Dataset` and `DataLoader` features in order to construct our dataset in such a way that is compatible with our model (<a href=\"https://pytorch.org/tutorials/beginner/basics/data_tutorial.html\">PyTorch: Datasets & DataLoaders</a>).\n",
        "\n",
        "First, we will create a class `Python_Dataset` using `torch.utils.data`'s `Dataset`."
      ]
    },
    {
      "cell_type": "code",
      "execution_count": null,
      "metadata": {
        "id": "J_WVwTO3NAjw"
      },
      "outputs": [],
      "source": [
        "# 'Python_Dataset' class for our python text data\n",
        "class Python_Dataset(Dataset):\n",
        "\n",
        "  # we need an __init__ function\n",
        "  def __init__(self, input_txt, input_tokenizer):# do we need these?, gpt2_type=\"gpt2\", max_length=768):\n",
        "\n",
        "    # store the incoming tokenizer as an attribute of the instance\n",
        "    self.tokenizer = input_tokenizer\n",
        "    # create attributes to store input IDs and attention masks\n",
        "    self.input_ids_list = []; self.attention_mask_list = []\n",
        "\n",
        "    # iterate through each source-target pair\n",
        "    for txt in input_txt:\n",
        "      # encode the text using special tokens defined above\n",
        "      encodings_dict = input_tokenizer('<SOS>'+ txt + '<EOS>', truncation = True, padding = \"max_length\") # , max_length = max_length)\n",
        "      # store the encoded input IDs and attention mask as tensors\n",
        "      input_ids = torch.tensor(encodings_dict['input_ids'])\n",
        "      attention_mask = torch.tensor(encodings_dict['attention_mask'])\n",
        "      # append the input IDs and attention mask to the class attribute lists\n",
        "      self.input_ids_list.append(input_ids)\n",
        "      self.attention_mask_list.append(attention_mask)\n",
        "\n",
        "  # we need a __len__ function \n",
        "  def __len__(self):\n",
        "    # return the number of lists of input IDs gathered (should match number of texts)\n",
        "    return len(self.input_ids_list)\n",
        "\n",
        "  # we need a __getitem__ function\n",
        "  def __getitem__(self, idx):\n",
        "    # return a tuple of the input IDs and attention mask for the current item\n",
        "    return self.input_ids_list[idx], self.attention_mask_list[idx] "
      ]
    },
    {
      "cell_type": "markdown",
      "metadata": {
        "id": "vCO7SAn_JgUj"
      },
      "source": [
        "Next, we will create an instance of the `Python_Dataset` class using the class constructor and the data frame that we stored our training data in, `python_df_train`."
      ]
    },
    {
      "cell_type": "code",
      "execution_count": null,
      "metadata": {
        "id": "ZK_EqIlVL9bb"
      },
      "outputs": [],
      "source": [
        "# create instance of Python_Dataset class\n",
        "python_dataset_train = Python_Dataset(python_df_train['txt'], tokenizer)"
      ]
    },
    {
      "cell_type": "markdown",
      "metadata": {
        "id": "Xm1wLBtaOgpi"
      },
      "source": [
        "Now, we can wrap an *iterable* around our dataset using `torch.utils.data`'s `DataLoader`. According to documentation for this feature, wrapping an iterable around the dataset allows the observations within the dataset to be more easily accessed.\n",
        "\n",
        "We can once again ensure that our data has been loaded properly by observing the length of our DataLoader object. Using a batch size of 2, we can expect the DataLoader to have ceil($\\frac{4948}{2}$)= **2,474** batches."
      ]
    },
    {
      "cell_type": "code",
      "execution_count": null,
      "metadata": {
        "colab": {
          "base_uri": "https://localhost:8080/"
        },
        "id": "cSApjXjQNGET",
        "outputId": "2333b2a3-2655-43cb-ffdf-b93d591fdd45"
      },
      "outputs": [
        {
          "name": "stdout",
          "output_type": "stream",
          "text": [
            "Number of Training Batches: 2474\n"
          ]
        }
      ],
      "source": [
        "# create the data loader for the training set\n",
        "train_batches = DataLoader(python_dataset_train, batch_size = bsize)\n",
        "\n",
        "# report the number of loaded batches for the training set\n",
        "print('Number of Training Batches:', len(train_batches))"
      ]
    },
    {
      "cell_type": "markdown",
      "metadata": {
        "id": "CQn7uGxIRUwL"
      },
      "source": [
        "## Build the Model\n",
        "\n",
        "We will use `transformers`' `GPT2LMHeadModel` here in order to retrieve our model. Using the `gpt2` option as we used with the tokenizer, we can retrieve a manageable version of GPT2.\n",
        "\n",
        "We must also resize the token embeddings here, as we have added special tokens to our tokenizer (`<SOS>`, `<EOS>`, and `<PAD>`). This way, our pretrained tokenizer and model can be compatible with one another."
      ]
    },
    {
      "cell_type": "code",
      "execution_count": null,
      "metadata": {
        "colab": {
          "base_uri": "https://localhost:8080/",
          "height": 49,
          "referenced_widgets": [
            "3e55e7b39d82481eab207e19d19d15c8",
            "d513cd3b9feb49fabd9d5532ecbcfa75",
            "17bbb81dd7124b4da18c498950d68182",
            "523dd6a90a1441dd88a1b9eb00d1a28f",
            "e4d8db3b7a7d4fd38e207a70e165c994",
            "66b07d3f27f24ff5b34b5e717491edcc",
            "fef4d27c702542378eb5a23372a4a78e",
            "156a9c32d7df48a99f76e6a1aa9a1d17",
            "2d887789fec1417ab94a78e7751772e5",
            "1b788da2c0464445b8f71ab405370700",
            "7218fb8ecca74a3294770d91e4b55ef7"
          ]
        },
        "id": "JI_h90KLSOEb",
        "outputId": "2d966651-f4d9-4d05-e9ea-ec0cacffb4e6"
      },
      "outputs": [
        {
          "data": {
            "application/vnd.jupyter.widget-view+json": {
              "model_id": "3e55e7b39d82481eab207e19d19d15c8",
              "version_major": 2,
              "version_minor": 0
            },
            "text/plain": [
              "Downloading:   0%|          | 0.00/548M [00:00<?, ?B/s]"
            ]
          },
          "metadata": {},
          "output_type": "display_data"
        }
      ],
      "source": [
        "# initialize the model using gpt2\n",
        "model = GPT2LMHeadModel.from_pretrained(\"gpt2\")\n",
        "\n",
        "# resize token embeddings, as explained above\n",
        "model.resize_token_embeddings(len(tokenizer));"
      ]
    },
    {
      "cell_type": "markdown",
      "metadata": {
        "id": "w53Q8AJXSoyg"
      },
      "source": [
        "Since our model will require strong computational resources, we could place the model directly on Google Colab's GPU, but we opt for a safer way of doing so. Below, we only place the model on the GPU if it is available."
      ]
    },
    {
      "cell_type": "code",
      "execution_count": 1,
      "metadata": {
        "colab": {
          "base_uri": "https://localhost:8080/"
        },
        "id": "rAqaKfmWS3PT",
        "outputId": "ace84d43-2855-4d88-d42d-228b6bcefac3"
      },
      "outputs": [
        {
          "name": "stdout",
          "output_type": "stream",
          "text": [
            "The model has been pushed to device: cuda:0\n"
          ]
        }
      ],
      "source": [
        "# send the model to the available device\n",
        "if torch.cuda.is_available():\n",
        "  # if available, use GPU\n",
        "  device = torch.device('cuda:0')\n",
        "else:\n",
        "  # otherwise, use CPU\n",
        "  device = torch.device('cpu')\n",
        "\n",
        "# push the model to the selected device\n",
        "model.to(device);\n",
        "\n",
        "# report the device that the model was pushed to\n",
        "print('The model has been pushed to device:', device)"
      ]
    },
    {
      "cell_type": "markdown",
      "metadata": {
        "id": "bmnrd_10TDnb"
      },
      "source": [
        "We can also initialize our optimizer and create a scheduled learning rate. These components will allow our model to learn in a more constructive way, rather than a more erratic one.\n",
        "\n",
        "Note that we use `torch.optim.AdamW` here, rather than `transformers.AdamW`, because the latter is deprecated."
      ]
    },
    {
      "cell_type": "code",
      "execution_count": null,
      "metadata": {
        "id": "wh4A4Y33TIG6"
      },
      "outputs": [],
      "source": [
        "# initialize optimizer\n",
        "optimizer = AdamW(model.parameters(), lr = lr_init)\n",
        "\n",
        "# initialize a scheduled learning rate\n",
        "lr = get_linear_schedule_with_warmup(\n",
        "    optimizer, num_warmup_steps = warmup_steps, \n",
        "    num_training_steps = len(train_batches))"
      ]
    },
    {
      "cell_type": "markdown",
      "metadata": {
        "id": "BsiuhPI4TIxj"
      },
      "source": [
        "# Train the Model\n",
        "\n",
        "In this section, we train our model using all the features that we have organized. We define a function, `runner`, to execute the training process and call that function using our training data."
      ]
    },
    {
      "cell_type": "code",
      "execution_count": null,
      "metadata": {
        "id": "M_Mr3BYZiibt"
      },
      "outputs": [],
      "source": [
        "# runner function to train the model\n",
        "def runner(batches):\n",
        "\n",
        "  # prepare for training\n",
        "  model.train()\n",
        "\n",
        "  # train the model over the number of specified epochs\n",
        "  for epoch in range(epochs):\n",
        "\n",
        "    # start a progress bar, which will help for observing runtime\n",
        "    print('Training: Epoch', epoch + 1)\n",
        "    progress_bar = tqdm(range(len(batches)))\n",
        "\n",
        "    # iterate through all batches\n",
        "    for batch in batches:\n",
        "\n",
        "      # extract the input IDs (position 0)\n",
        "      input_ids = batch[0].to(device)\n",
        "      labels = batch[0].to(device)\n",
        "      # extract the attention masks (position 1)\n",
        "      attention_masks = batch[1].to(device)       \n",
        "\n",
        "      # retrieve the outputs of the model\n",
        "      outputs = model(input_ids,\n",
        "                      labels = labels, \n",
        "                      attention_mask = attention_masks,\n",
        "                     ) \n",
        "\n",
        "      # compute loss and backpropogate\n",
        "      loss = outputs.loss\n",
        "      loss.backward()\n",
        "      # advance the optimizer and learning rates\n",
        "      optimizer.step()\n",
        "      lr.step()\n",
        "      # zero out gradients so they won't affect the next batch\n",
        "      optimizer.zero_grad()\n",
        "\n",
        "      # update the progress bar\n",
        "      progress_bar.update(1)"
      ]
    },
    {
      "cell_type": "code",
      "execution_count": null,
      "metadata": {
        "colab": {
          "base_uri": "https://localhost:8080/",
          "height": 268,
          "referenced_widgets": [
            "3f4f3c0c1de74e989eb8602bf1e08a0a",
            "be4d348e853a42f5bd6329bed9421e84",
            "4e3e138de2be46d1b435834a2c6418fb",
            "b78712e66453499281426caed2fb03c8",
            "d97cb6a9a81e45cd98da7aaf05ba7bf0",
            "e9cc212ffd554f1aa84682a8ef1d128c",
            "ca877034674a4521a1d2a9349afc9a34",
            "b7bc6a8e0d254048b2b7a668ab654bbc",
            "29a8e765c8824f34988b0a4a3e3a80b6",
            "d0cdbc7ea12e4f31a73f88f196a282be",
            "fb953a30991a463bacb7cb9d654514bd",
            "9039ae8252ad47c5acf1562953c3f371",
            "08a26d88983a4b1a906efc5d710d05a1",
            "6b2af70546594af8b3c2b6233e1f435f",
            "04711b1f29a343999d82064cce7c636c",
            "7e254e8a16aa4af489025031a113664c",
            "f3c87195aec54c4eba3aa0a8e61df06f",
            "0e64bb77ea524a6ea31e0fb3fe8326fb",
            "1f7e62562c834a06b25c2201f873db17",
            "7964c0a1f7884472ae801f5b96cfde3c",
            "8b9aaf5f9496479b92b0aedbda44620e",
            "e884b9f37df34f1eb1cd977248deaf25",
            "2b29c09e72e24b24a76907e276d49fa5",
            "1fe8c112fbf945a7895130a6c2654003",
            "9e74552250d244a6b6dbea27bf5f8782",
            "45460580a77c4462a94d61531d8205ce",
            "68ac7dc6a5694b63af6fbd211901fab3",
            "993d8f86fc2b4e729b6a414b4b7f6599",
            "47f0cb4d66244e7890c96b3333ffbfe3",
            "20161d39f4b94b429f8e56013ad93b54",
            "8a851d166e6143aab835ab956e6303f6",
            "8f27c0be8f2f41ba930e73993019456b",
            "d6a04041aa0c46659faefbff355de55f",
            "46a18da413a74cdbba4c558c789e6ad8",
            "31841425a2bf437b9b5d7b2396c90ba7",
            "f84df0b2b8734e92b6f927eb2a416d4f",
            "74ec2a121efb4176b201d98d99ecfbb5",
            "8563a4602f084449953d106067c90d57",
            "727624eec5bf43bc81c15879096996b3",
            "f621c2fc053b4450b4173c4c7fe7685e",
            "425a03befbf441b6ad349da69f50ffec",
            "2033da88193e4c92bcb50e1d61667a38",
            "967346ea1c324c569622f8681cb3e4c5",
            "5a006febd06248388337d9d00fbc45f2",
            "65771648e1b94283b3477fa965e87c9b",
            "302116fccc1140ddb053100013041946",
            "a23b4860d9334474ac110b22c8eed3be",
            "7626fa64ceb44eaaa561d105fedfd395",
            "00e9885007c7467fa7fb5447c64bfe75",
            "4cfef5d07dc94450aa889930002dae4c",
            "4ae92bc36c984bf9bab55a89fff2c5a6",
            "94e85acc89fd4efba275e3ed61a1cc15",
            "7171a11cf63b4a0c8a2dc462893e9c7a",
            "300629b2763d4837b1b8b5a1490f4c26",
            "c4bec2493b094fad98a10f8e78fdc289"
          ]
        },
        "id": "y-jSBUHGpS_B",
        "outputId": "c5200aad-ea26-4c6b-fae5-e48f4c9ea74e"
      },
      "outputs": [
        {
          "name": "stdout",
          "output_type": "stream",
          "text": [
            "Training: Epoch 1\n"
          ]
        },
        {
          "data": {
            "application/vnd.jupyter.widget-view+json": {
              "model_id": "3f4f3c0c1de74e989eb8602bf1e08a0a",
              "version_major": 2,
              "version_minor": 0
            },
            "text/plain": [
              "  0%|          | 0/2479 [00:00<?, ?it/s]"
            ]
          },
          "metadata": {},
          "output_type": "display_data"
        },
        {
          "name": "stdout",
          "output_type": "stream",
          "text": [
            "Training: Epoch 2\n"
          ]
        },
        {
          "data": {
            "application/vnd.jupyter.widget-view+json": {
              "model_id": "9039ae8252ad47c5acf1562953c3f371",
              "version_major": 2,
              "version_minor": 0
            },
            "text/plain": [
              "  0%|          | 0/2479 [00:00<?, ?it/s]"
            ]
          },
          "metadata": {},
          "output_type": "display_data"
        },
        {
          "name": "stdout",
          "output_type": "stream",
          "text": [
            "Training: Epoch 3\n"
          ]
        },
        {
          "data": {
            "application/vnd.jupyter.widget-view+json": {
              "model_id": "2b29c09e72e24b24a76907e276d49fa5",
              "version_major": 2,
              "version_minor": 0
            },
            "text/plain": [
              "  0%|          | 0/2479 [00:00<?, ?it/s]"
            ]
          },
          "metadata": {},
          "output_type": "display_data"
        },
        {
          "name": "stdout",
          "output_type": "stream",
          "text": [
            "Training: Epoch 4\n"
          ]
        },
        {
          "data": {
            "application/vnd.jupyter.widget-view+json": {
              "model_id": "46a18da413a74cdbba4c558c789e6ad8",
              "version_major": 2,
              "version_minor": 0
            },
            "text/plain": [
              "  0%|          | 0/2479 [00:00<?, ?it/s]"
            ]
          },
          "metadata": {},
          "output_type": "display_data"
        },
        {
          "name": "stdout",
          "output_type": "stream",
          "text": [
            "Training: Epoch 5\n"
          ]
        },
        {
          "data": {
            "application/vnd.jupyter.widget-view+json": {
              "model_id": "65771648e1b94283b3477fa965e87c9b",
              "version_major": 2,
              "version_minor": 0
            },
            "text/plain": [
              "  0%|          | 0/2479 [00:00<?, ?it/s]"
            ]
          },
          "metadata": {},
          "output_type": "display_data"
        }
      ],
      "source": [
        "# train the model using the function above\n",
        "runner(train_batches)"
      ]
    },
    {
      "cell_type": "markdown",
      "metadata": {
        "id": "GeuXxqEzXVpj"
      },
      "source": [
        "# Test the Model\n",
        "\n",
        "In this section, we use the 10 held-out test prompts in order to test our model. Using these prompts, we can generate responses from the model and decode them into Python scripts. Below, we create a function that does this for us, calling the function once for each test prompt."
      ]
    },
    {
      "cell_type": "code",
      "execution_count": null,
      "metadata": {
        "id": "pSirO8lIXWA3"
      },
      "outputs": [],
      "source": [
        "def generate_from_prompt(prompt):\n",
        "\n",
        "  # encode the prompt and extract the input IDs and attention mask\n",
        "  encoded_prompt = tokenizer(prompt)\n",
        "  input_ids = torch.tensor(encoding['input_ids']).to(device).unsqueeze(0)\n",
        "  attention_mask = torch.tensor(encoding['attention_mask']).to(device).unsqueeze(0)\n",
        "\n",
        "  # extract the IDs given to the special tokens\n",
        "  bos = torch.tensor(tokenizer.encode('<SOS>')).to(device)\n",
        "  eos = torch.tensor(tokenizer.encode('<EOS>')).to(device)\n",
        "  pad = torch.tensor(tokenizer.encode('<PAD>')).to(device)\n",
        "\n",
        "  # generate response to prompt\n",
        "  response = model.generate(input_ids = input_ids,\n",
        "                            attention_mask = attention_mask,\n",
        "                            bos_token_id = bos,\n",
        "                            eos_token_id = eos,\n",
        "                            pad_token_id = pad,\n",
        "                            max_length = 200,\n",
        "                            top_p = 0.95,\n",
        "                            num_return_sequences = 1\n",
        "                            )\n",
        "  \n",
        "  # decode and return the response\n",
        "  python_code = tokenizer.decode(sample_output, skip_special_tokens = True)\n",
        "  return python_code"
      ]
    },
    {
      "cell_type": "code",
      "execution_count": null,
      "metadata": {
        "id": "AqRXrvBjbM6X"
      },
      "outputs": [],
      "source": [
        "# collect the prompts from the testing data\n",
        "test_prompts = python_df_test['src']\n",
        "\n",
        "# call the function above on each prompt to generate output\n",
        "for i, test_prompt in enumerate(test_prompts):\n",
        "  print('--- Test Prompt', i, '---')\n",
        "  print(test_prompt)\n",
        "  print('Generated Output', i)\n",
        "  print(generate_from_prompt(test_prompt))\n",
        "  print('\\n\\n')"
      ]
    },
    {
      "cell_type": "markdown",
      "metadata": {
        "id": "FYLjNT6lwOjo"
      },
      "source": [
        "**Note**: Please note that we do not provide output for the function calls above due to what we mentioned in our introduction. As mentioned, we have run out of GPU resources on Google Colab, so we are not currently able to train our model one final time in order to test these held-out prompts.\n",
        "\n",
        "However, we were able to retain a handful of results through our training process by keeping outputs and taking screenshots of test results when possible. We provide these below.\n",
        "\n",
        "### Example 1\n",
        "\n",
        "Our first example is a retainment of prior model output and can be seen below."
      ]
    },
    {
      "cell_type": "code",
      "execution_count": null,
      "metadata": {
        "colab": {
          "base_uri": "https://localhost:8080/"
        },
        "id": "A-pTr8gA-7i8",
        "outputId": "e361cd58-330c-4a3a-984c-298b6deb173b"
      },
      "outputs": [
        {
          "name": "stdout",
          "output_type": "stream",
          "text": [
            "0:  # write a function that sums two integers |     \n",
            "#\n",
            "                   \n",
            "            \n",
            "if((\n",
            "\n",
            "      \n",
            "[1]\n",
            "\n",
            "{\n",
            "\n",
            "is a function\n",
            "\n",
            "\n",
            "[\n",
            "]\n",
            "}\n",
            "\n",
            "\n",
            "\n",
            "set of\n",
            "\n",
            "\n",
            "\n",
            "\n",
            "\n",
            "     \n",
            "\n",
            "\n",
            "\n",
            "\n",
            "\n",
            "\n",
            "\n",
            "\n",
            " 1\n",
            "\n",
            "1 1\n",
            "\n",
            "1\n",
            "1\n",
            "\n",
            "2 a\n",
            "\n",
            "\n"
          ]
        }
      ],
      "source": [
        "# generate python script from made-up prompt\n",
        "generate_from_prompt('# write a function that sums two integers | ')"
      ]
    },
    {
      "cell_type": "markdown",
      "metadata": {
        "id": "UaU-g1JExw82"
      },
      "source": [
        "### Example 2\n",
        "\n",
        "Our second example is another retainment of prior model output and can also be seen below."
      ]
    },
    {
      "cell_type": "code",
      "execution_count": null,
      "metadata": {
        "colab": {
          "base_uri": "https://localhost:8080/"
        },
        "id": "4UgD8q61PJ7L",
        "outputId": "e6275ae9-2549-4378-fae5-53e7ac09155a"
      },
      "outputs": [
        {
          "name": "stderr",
          "output_type": "stream",
          "text": [
            "The attention mask and the pad token id were not set. As a consequence, you may observe unexpected behavior. Please pass your input's `attention_mask` to obtain reliable results.\n",
            "Setting `pad_token_id` to `eos_token_id`:50256 for open-end generation.\n"
          ]
        },
        {
          "name": "stdout",
          "output_type": "stream",
          "text": [
            "tensor([[50257,  1303,  3551,   257,  2163,   326, 10524,   257,  1351,   930,\n",
            "           220]], device='cuda:0')\n",
            "0:  # write a function that sorts a list |    = [] def filter_list(list):     = list[list[ 0 ]][1] \n",
            "return list[list] #\n",
            "     print (list[ 0 ][ 0 ])\n",
            " \n",
            "else:\n",
            "    def iter_list(list):        = list[list[ 0 ]) \n",
            "# a number of values to use if no empty list\n",
            "       print (list[ 0 ]):     print (list[ 0 ])\n",
            "  else:    def iter_list(list):        = list[list[ 0 ], 3]    print (list[ 3]:    print (\"\", list[ 2 ])\n",
            "     if len(list[ 0 ][ 1]) >= 3:    print(\" \", list[0]):     print(\" \", list[ 0 ][1])     if len(list[ 3 ][ 2]) >= 2:   print(\" \", list\n",
            "\n",
            "]   return list[3][ 2]\n",
            " # print(\"\", list[0][1])\n",
            "\n",
            "# print(\" \", list[0][\n",
            "\n",
            "\n"
          ]
        }
      ],
      "source": [
        "# generate python script from made-up prompt\n",
        "generate_from_prompt('<SOS> # write a function that sorts a list | ')"
      ]
    },
    {
      "cell_type": "markdown",
      "metadata": {
        "id": "HNSR1Lp8x714"
      },
      "source": [
        "### Example 3\n",
        "\n",
        "Our third example is provided as a screenshot and was generated from our highest-achieving model with the help of Google Colab's GPU resources. This can be seen below."
      ]
    },
    {
      "cell_type": "code",
      "execution_count": null,
      "metadata": {
        "colab": {
          "base_uri": "https://localhost:8080/",
          "height": 183
        },
        "id": "AzvQontXkyhZ",
        "outputId": "9d13b8d2-0275-4c5d-9807-638fbd33b3c1"
      },
      "outputs": [
        {
          "data": {
            "image/png": "[encoded data removed]",
            "text/plain": [
              "<IPython.core.display.Image object>"
            ]
          },
          "execution_count": 5,
          "metadata": {},
          "output_type": "execute_result"
        }
      ],
      "source": [
        "# display screenshot from previous test prompt\n",
        "Image(filename='merge_two_lists.png')"
      ]
    },
    {
      "cell_type": "markdown",
      "metadata": {
        "id": "9RhZ58fhybpA"
      },
      "source": [
        "### Example 4\n",
        "\n",
        "Our fourth example is also provided as a screenshot and was generated from our highest-achieving model with the help of Google Colab's GPU resources. This can be seen below."
      ]
    },
    {
      "cell_type": "code",
      "execution_count": null,
      "metadata": {
        "colab": {
          "base_uri": "https://localhost:8080/",
          "height": 131
        },
        "id": "aiz7d_uZn4wV",
        "outputId": "fb1dde28-28f7-4788-f0a0-6a8ec86e7052"
      },
      "outputs": [
        {
          "data": {
            "image/png": "[encoded data removed]",
            "text/plain": [
              "<IPython.core.display.Image object>"
            ]
          },
          "execution_count": 6,
          "metadata": {},
          "output_type": "execute_result"
        }
      ],
      "source": [
        "# display screenshot from previous test prompt\n",
        "Image(filename='for loop.png')"
      ]
    },
    {
      "cell_type": "markdown",
      "metadata": {
        "id": "udst0pneygou"
      },
      "source": [
        "# Future Work\n",
        "\n",
        "In this section, as we wrap up our analysis, we would like to propose several ideas for future work.\n",
        "\n",
        "### More Thorough Training\n",
        "\n",
        "The most glaring place for improvement that we see with our analysis lies in the model training process. Of course, as mentioned, we were able to run our models using Google Colab's GPU resources to a certain extent, but eventually exhausted those resources. We believe that having access to more powerful resources while training our model would lead us to more successful results in the future.\n",
        "\n",
        "### More Data\n",
        "\n",
        "Another place for improvement that we recognize relates to the size of our data. Although we have nearly 5,000 prompts and associated Python code blocks, our dataset still remains very small at approximately 1.1 MB. We realize that having access to more data for use in our model training process could also lead to more desirable results in the future.\n",
        "\n",
        "One way in which we can increase the size of our dataset is through *Data Augmentation*. Here, we can replace variable names in the Python code blocks in order to generate similar but different code blocks for each prompt. This way, we increase the size of our dataset and allow our model to get a better understanding of Python syntax and structure, rather than focusing on variable names themselves.\n",
        "\n",
        "### Optimize the Model\n",
        "\n",
        "The last article of improvement that we would like to recognize regards the model itself. With more exhaustive hyperparameter tuning, we believe that we could improve our results. For instance, given unlimited resources, we would like to experiment with differing batch sizes, scheduled learning rates, and model choices. With this approach, we believe that we could find the optimal parameters for our model."
      ]
    },
    {
      "cell_type": "markdown",
      "metadata": {
        "id": "so9_hptw1QB0"
      },
      "source": [
        "# References\n",
        "\n",
        "PyTorch: Datasets & DataLoaders: (<a href=\"https://pytorch.org/tutorials/beginner/basics/data_tutorial.html\">PyTorch</a>)\n",
        "\n",
        "Moving NLP Forward: (<a href=\"https://www.youtube.com/watch?v=WVM09Ri4MbI\">Youtube</a>)\n",
        "\n",
        "GPT-2 Fine-Tuning: (<a href=\"https://colab.research.google.com/drive/13dZVYEOMhXhkXWfvSMVM1TTtUDrT6Aeh?usp=sharing#scrollTo=v4XhewaV93-_\">Google Colab</a>)\n",
        "\n",
        "Fine-Tuning GPT-2: (<a href=\"https://github.com/itsuncheng/fine-tuning-GPT2\">GitHub</a>)\n",
        "\n",
        "GPT-2 Resources: (<a href=\"https://drive.google.com/drive/folders/12kc9BrHdEe2am4x7d_x0YyKAGd0PeuuS\">Google Drive</a>)\n",
        "\n",
        "Fine-Tuning GPT-2 for Text Generation: (<a href=\"https://towardsdatascience.com/fine-tuning-gpt2-for-text-generation-using-pytorch-2ee61a4f1ba7\">Toward Data Science</a>)"
      ]
    },
    {
      "cell_type": "code",
      "execution_count": null,
      "metadata": {
        "id": "XHvX025_1RFe"
      },
      "outputs": [],
      "source": []
    }
  ],
  "metadata": {
    "accelerator": "GPU",
    "colab": {
      "provenance": []
    },
    "gpuClass": "standard",
    "kernelspec": {
      "display_name": "ANLY501",
      "language": "python",
      "name": "python3"
    },
    "language_info": {
      "name": "python",
      "version": "3.10.4 (main, Mar 31 2022, 03:38:35) [Clang 12.0.0 ]"
    },
    "vscode": {
      "interpreter": {
        "hash": "6c72976fb237423a2a1d3151ac569995244a4a767dd0452f9a8ae3f982e3763a"
      }
    },
    "widgets": {
      "application/vnd.jupyter.widget-state+json": {
        "00e9885007c7467fa7fb5447c64bfe75": {
          "model_module": "@jupyter-widgets/base",
          "model_module_version": "1.2.0",
          "model_name": "LayoutModel",
          "state": {
            "_model_module": "@jupyter-widgets/base",
            "_model_module_version": "1.2.0",
            "_model_name": "LayoutModel",
            "_view_count": null,
            "_view_module": "@jupyter-widgets/base",
            "_view_module_version": "1.2.0",
            "_view_name": "LayoutView",
            "align_content": null,
            "align_items": null,
            "align_self": null,
            "border": null,
            "bottom": null,
            "display": null,
            "flex": null,
            "flex_flow": null,
            "grid_area": null,
            "grid_auto_columns": null,
            "grid_auto_flow": null,
            "grid_auto_rows": null,
            "grid_column": null,
            "grid_gap": null,
            "grid_row": null,
            "grid_template_areas": null,
            "grid_template_columns": null,
            "grid_template_rows": null,
            "height": null,
            "justify_content": null,
            "justify_items": null,
            "left": null,
            "margin": null,
            "max_height": null,
            "max_width": null,
            "min_height": null,
            "min_width": null,
            "object_fit": null,
            "object_position": null,
            "order": null,
            "overflow": null,
            "overflow_x": null,
            "overflow_y": null,
            "padding": null,
            "right": null,
            "top": null,
            "visibility": null,
            "width": null
          }
        },
        "04711b1f29a343999d82064cce7c636c": {
          "model_module": "@jupyter-widgets/controls",
          "model_module_version": "1.5.0",
          "model_name": "HTMLModel",
          "state": {
            "_dom_classes": [],
            "_model_module": "@jupyter-widgets/controls",
            "_model_module_version": "1.5.0",
            "_model_name": "HTMLModel",
            "_view_count": null,
            "_view_module": "@jupyter-widgets/controls",
            "_view_module_version": "1.5.0",
            "_view_name": "HTMLView",
            "description": "",
            "description_tooltip": null,
            "layout": "IPY_MODEL_8b9aaf5f9496479b92b0aedbda44620e",
            "placeholder": "​",
            "style": "IPY_MODEL_e884b9f37df34f1eb1cd977248deaf25",
            "value": " 2479/2479 [1:28:04&lt;00:00,  1.39it/s]"
          }
        },
        "08a26d88983a4b1a906efc5d710d05a1": {
          "model_module": "@jupyter-widgets/controls",
          "model_module_version": "1.5.0",
          "model_name": "HTMLModel",
          "state": {
            "_dom_classes": [],
            "_model_module": "@jupyter-widgets/controls",
            "_model_module_version": "1.5.0",
            "_model_name": "HTMLModel",
            "_view_count": null,
            "_view_module": "@jupyter-widgets/controls",
            "_view_module_version": "1.5.0",
            "_view_name": "HTMLView",
            "description": "",
            "description_tooltip": null,
            "layout": "IPY_MODEL_f3c87195aec54c4eba3aa0a8e61df06f",
            "placeholder": "​",
            "style": "IPY_MODEL_0e64bb77ea524a6ea31e0fb3fe8326fb",
            "value": "100%"
          }
        },
        "0e64bb77ea524a6ea31e0fb3fe8326fb": {
          "model_module": "@jupyter-widgets/controls",
          "model_module_version": "1.5.0",
          "model_name": "DescriptionStyleModel",
          "state": {
            "_model_module": "@jupyter-widgets/controls",
            "_model_module_version": "1.5.0",
            "_model_name": "DescriptionStyleModel",
            "_view_count": null,
            "_view_module": "@jupyter-widgets/base",
            "_view_module_version": "1.2.0",
            "_view_name": "StyleView",
            "description_width": ""
          }
        },
        "156a9c32d7df48a99f76e6a1aa9a1d17": {
          "model_module": "@jupyter-widgets/base",
          "model_module_version": "1.2.0",
          "model_name": "LayoutModel",
          "state": {
            "_model_module": "@jupyter-widgets/base",
            "_model_module_version": "1.2.0",
            "_model_name": "LayoutModel",
            "_view_count": null,
            "_view_module": "@jupyter-widgets/base",
            "_view_module_version": "1.2.0",
            "_view_name": "LayoutView",
            "align_content": null,
            "align_items": null,
            "align_self": null,
            "border": null,
            "bottom": null,
            "display": null,
            "flex": null,
            "flex_flow": null,
            "grid_area": null,
            "grid_auto_columns": null,
            "grid_auto_flow": null,
            "grid_auto_rows": null,
            "grid_column": null,
            "grid_gap": null,
            "grid_row": null,
            "grid_template_areas": null,
            "grid_template_columns": null,
            "grid_template_rows": null,
            "height": null,
            "justify_content": null,
            "justify_items": null,
            "left": null,
            "margin": null,
            "max_height": null,
            "max_width": null,
            "min_height": null,
            "min_width": null,
            "object_fit": null,
            "object_position": null,
            "order": null,
            "overflow": null,
            "overflow_x": null,
            "overflow_y": null,
            "padding": null,
            "right": null,
            "top": null,
            "visibility": null,
            "width": null
          }
        },
        "17bbb81dd7124b4da18c498950d68182": {
          "model_module": "@jupyter-widgets/controls",
          "model_module_version": "1.5.0",
          "model_name": "FloatProgressModel",
          "state": {
            "_dom_classes": [],
            "_model_module": "@jupyter-widgets/controls",
            "_model_module_version": "1.5.0",
            "_model_name": "FloatProgressModel",
            "_view_count": null,
            "_view_module": "@jupyter-widgets/controls",
            "_view_module_version": "1.5.0",
            "_view_name": "ProgressView",
            "bar_style": "success",
            "description": "",
            "description_tooltip": null,
            "layout": "IPY_MODEL_156a9c32d7df48a99f76e6a1aa9a1d17",
            "max": 548118077,
            "min": 0,
            "orientation": "horizontal",
            "style": "IPY_MODEL_2d887789fec1417ab94a78e7751772e5",
            "value": 548118077
          }
        },
        "1b788da2c0464445b8f71ab405370700": {
          "model_module": "@jupyter-widgets/base",
          "model_module_version": "1.2.0",
          "model_name": "LayoutModel",
          "state": {
            "_model_module": "@jupyter-widgets/base",
            "_model_module_version": "1.2.0",
            "_model_name": "LayoutModel",
            "_view_count": null,
            "_view_module": "@jupyter-widgets/base",
            "_view_module_version": "1.2.0",
            "_view_name": "LayoutView",
            "align_content": null,
            "align_items": null,
            "align_self": null,
            "border": null,
            "bottom": null,
            "display": null,
            "flex": null,
            "flex_flow": null,
            "grid_area": null,
            "grid_auto_columns": null,
            "grid_auto_flow": null,
            "grid_auto_rows": null,
            "grid_column": null,
            "grid_gap": null,
            "grid_row": null,
            "grid_template_areas": null,
            "grid_template_columns": null,
            "grid_template_rows": null,
            "height": null,
            "justify_content": null,
            "justify_items": null,
            "left": null,
            "margin": null,
            "max_height": null,
            "max_width": null,
            "min_height": null,
            "min_width": null,
            "object_fit": null,
            "object_position": null,
            "order": null,
            "overflow": null,
            "overflow_x": null,
            "overflow_y": null,
            "padding": null,
            "right": null,
            "top": null,
            "visibility": null,
            "width": null
          }
        },
        "1f7e62562c834a06b25c2201f873db17": {
          "model_module": "@jupyter-widgets/base",
          "model_module_version": "1.2.0",
          "model_name": "LayoutModel",
          "state": {
            "_model_module": "@jupyter-widgets/base",
            "_model_module_version": "1.2.0",
            "_model_name": "LayoutModel",
            "_view_count": null,
            "_view_module": "@jupyter-widgets/base",
            "_view_module_version": "1.2.0",
            "_view_name": "LayoutView",
            "align_content": null,
            "align_items": null,
            "align_self": null,
            "border": null,
            "bottom": null,
            "display": null,
            "flex": null,
            "flex_flow": null,
            "grid_area": null,
            "grid_auto_columns": null,
            "grid_auto_flow": null,
            "grid_auto_rows": null,
            "grid_column": null,
            "grid_gap": null,
            "grid_row": null,
            "grid_template_areas": null,
            "grid_template_columns": null,
            "grid_template_rows": null,
            "height": null,
            "justify_content": null,
            "justify_items": null,
            "left": null,
            "margin": null,
            "max_height": null,
            "max_width": null,
            "min_height": null,
            "min_width": null,
            "object_fit": null,
            "object_position": null,
            "order": null,
            "overflow": null,
            "overflow_x": null,
            "overflow_y": null,
            "padding": null,
            "right": null,
            "top": null,
            "visibility": null,
            "width": null
          }
        },
        "1fe8c112fbf945a7895130a6c2654003": {
          "model_module": "@jupyter-widgets/controls",
          "model_module_version": "1.5.0",
          "model_name": "HTMLModel",
          "state": {
            "_dom_classes": [],
            "_model_module": "@jupyter-widgets/controls",
            "_model_module_version": "1.5.0",
            "_model_name": "HTMLModel",
            "_view_count": null,
            "_view_module": "@jupyter-widgets/controls",
            "_view_module_version": "1.5.0",
            "_view_name": "HTMLView",
            "description": "",
            "description_tooltip": null,
            "layout": "IPY_MODEL_993d8f86fc2b4e729b6a414b4b7f6599",
            "placeholder": "​",
            "style": "IPY_MODEL_47f0cb4d66244e7890c96b3333ffbfe3",
            "value": "100%"
          }
        },
        "20161d39f4b94b429f8e56013ad93b54": {
          "model_module": "@jupyter-widgets/base",
          "model_module_version": "1.2.0",
          "model_name": "LayoutModel",
          "state": {
            "_model_module": "@jupyter-widgets/base",
            "_model_module_version": "1.2.0",
            "_model_name": "LayoutModel",
            "_view_count": null,
            "_view_module": "@jupyter-widgets/base",
            "_view_module_version": "1.2.0",
            "_view_name": "LayoutView",
            "align_content": null,
            "align_items": null,
            "align_self": null,
            "border": null,
            "bottom": null,
            "display": null,
            "flex": null,
            "flex_flow": null,
            "grid_area": null,
            "grid_auto_columns": null,
            "grid_auto_flow": null,
            "grid_auto_rows": null,
            "grid_column": null,
            "grid_gap": null,
            "grid_row": null,
            "grid_template_areas": null,
            "grid_template_columns": null,
            "grid_template_rows": null,
            "height": null,
            "justify_content": null,
            "justify_items": null,
            "left": null,
            "margin": null,
            "max_height": null,
            "max_width": null,
            "min_height": null,
            "min_width": null,
            "object_fit": null,
            "object_position": null,
            "order": null,
            "overflow": null,
            "overflow_x": null,
            "overflow_y": null,
            "padding": null,
            "right": null,
            "top": null,
            "visibility": null,
            "width": null
          }
        },
        "2033da88193e4c92bcb50e1d61667a38": {
          "model_module": "@jupyter-widgets/controls",
          "model_module_version": "1.5.0",
          "model_name": "ProgressStyleModel",
          "state": {
            "_model_module": "@jupyter-widgets/controls",
            "_model_module_version": "1.5.0",
            "_model_name": "ProgressStyleModel",
            "_view_count": null,
            "_view_module": "@jupyter-widgets/base",
            "_view_module_version": "1.2.0",
            "_view_name": "StyleView",
            "bar_color": null,
            "description_width": ""
          }
        },
        "29a8e765c8824f34988b0a4a3e3a80b6": {
          "model_module": "@jupyter-widgets/controls",
          "model_module_version": "1.5.0",
          "model_name": "ProgressStyleModel",
          "state": {
            "_model_module": "@jupyter-widgets/controls",
            "_model_module_version": "1.5.0",
            "_model_name": "ProgressStyleModel",
            "_view_count": null,
            "_view_module": "@jupyter-widgets/base",
            "_view_module_version": "1.2.0",
            "_view_name": "StyleView",
            "bar_color": null,
            "description_width": ""
          }
        },
        "2b29c09e72e24b24a76907e276d49fa5": {
          "model_module": "@jupyter-widgets/controls",
          "model_module_version": "1.5.0",
          "model_name": "HBoxModel",
          "state": {
            "_dom_classes": [],
            "_model_module": "@jupyter-widgets/controls",
            "_model_module_version": "1.5.0",
            "_model_name": "HBoxModel",
            "_view_count": null,
            "_view_module": "@jupyter-widgets/controls",
            "_view_module_version": "1.5.0",
            "_view_name": "HBoxView",
            "box_style": "",
            "children": [
              "IPY_MODEL_1fe8c112fbf945a7895130a6c2654003",
              "IPY_MODEL_9e74552250d244a6b6dbea27bf5f8782",
              "IPY_MODEL_45460580a77c4462a94d61531d8205ce"
            ],
            "layout": "IPY_MODEL_68ac7dc6a5694b63af6fbd211901fab3"
          }
        },
        "2d887789fec1417ab94a78e7751772e5": {
          "model_module": "@jupyter-widgets/controls",
          "model_module_version": "1.5.0",
          "model_name": "ProgressStyleModel",
          "state": {
            "_model_module": "@jupyter-widgets/controls",
            "_model_module_version": "1.5.0",
            "_model_name": "ProgressStyleModel",
            "_view_count": null,
            "_view_module": "@jupyter-widgets/base",
            "_view_module_version": "1.2.0",
            "_view_name": "StyleView",
            "bar_color": null,
            "description_width": ""
          }
        },
        "300629b2763d4837b1b8b5a1490f4c26": {
          "model_module": "@jupyter-widgets/base",
          "model_module_version": "1.2.0",
          "model_name": "LayoutModel",
          "state": {
            "_model_module": "@jupyter-widgets/base",
            "_model_module_version": "1.2.0",
            "_model_name": "LayoutModel",
            "_view_count": null,
            "_view_module": "@jupyter-widgets/base",
            "_view_module_version": "1.2.0",
            "_view_name": "LayoutView",
            "align_content": null,
            "align_items": null,
            "align_self": null,
            "border": null,
            "bottom": null,
            "display": null,
            "flex": null,
            "flex_flow": null,
            "grid_area": null,
            "grid_auto_columns": null,
            "grid_auto_flow": null,
            "grid_auto_rows": null,
            "grid_column": null,
            "grid_gap": null,
            "grid_row": null,
            "grid_template_areas": null,
            "grid_template_columns": null,
            "grid_template_rows": null,
            "height": null,
            "justify_content": null,
            "justify_items": null,
            "left": null,
            "margin": null,
            "max_height": null,
            "max_width": null,
            "min_height": null,
            "min_width": null,
            "object_fit": null,
            "object_position": null,
            "order": null,
            "overflow": null,
            "overflow_x": null,
            "overflow_y": null,
            "padding": null,
            "right": null,
            "top": null,
            "visibility": null,
            "width": null
          }
        },
        "302116fccc1140ddb053100013041946": {
          "model_module": "@jupyter-widgets/controls",
          "model_module_version": "1.5.0",
          "model_name": "HTMLModel",
          "state": {
            "_dom_classes": [],
            "_model_module": "@jupyter-widgets/controls",
            "_model_module_version": "1.5.0",
            "_model_name": "HTMLModel",
            "_view_count": null,
            "_view_module": "@jupyter-widgets/controls",
            "_view_module_version": "1.5.0",
            "_view_name": "HTMLView",
            "description": "",
            "description_tooltip": null,
            "layout": "IPY_MODEL_4cfef5d07dc94450aa889930002dae4c",
            "placeholder": "​",
            "style": "IPY_MODEL_4ae92bc36c984bf9bab55a89fff2c5a6",
            "value": "100%"
          }
        },
        "31841425a2bf437b9b5d7b2396c90ba7": {
          "model_module": "@jupyter-widgets/controls",
          "model_module_version": "1.5.0",
          "model_name": "HTMLModel",
          "state": {
            "_dom_classes": [],
            "_model_module": "@jupyter-widgets/controls",
            "_model_module_version": "1.5.0",
            "_model_name": "HTMLModel",
            "_view_count": null,
            "_view_module": "@jupyter-widgets/controls",
            "_view_module_version": "1.5.0",
            "_view_name": "HTMLView",
            "description": "",
            "description_tooltip": null,
            "layout": "IPY_MODEL_727624eec5bf43bc81c15879096996b3",
            "placeholder": "​",
            "style": "IPY_MODEL_f621c2fc053b4450b4173c4c7fe7685e",
            "value": "100%"
          }
        },
        "3e55e7b39d82481eab207e19d19d15c8": {
          "model_module": "@jupyter-widgets/controls",
          "model_module_version": "1.5.0",
          "model_name": "HBoxModel",
          "state": {
            "_dom_classes": [],
            "_model_module": "@jupyter-widgets/controls",
            "_model_module_version": "1.5.0",
            "_model_name": "HBoxModel",
            "_view_count": null,
            "_view_module": "@jupyter-widgets/controls",
            "_view_module_version": "1.5.0",
            "_view_name": "HBoxView",
            "box_style": "",
            "children": [
              "IPY_MODEL_d513cd3b9feb49fabd9d5532ecbcfa75",
              "IPY_MODEL_17bbb81dd7124b4da18c498950d68182",
              "IPY_MODEL_523dd6a90a1441dd88a1b9eb00d1a28f"
            ],
            "layout": "IPY_MODEL_e4d8db3b7a7d4fd38e207a70e165c994"
          }
        },
        "3f4f3c0c1de74e989eb8602bf1e08a0a": {
          "model_module": "@jupyter-widgets/controls",
          "model_module_version": "1.5.0",
          "model_name": "HBoxModel",
          "state": {
            "_dom_classes": [],
            "_model_module": "@jupyter-widgets/controls",
            "_model_module_version": "1.5.0",
            "_model_name": "HBoxModel",
            "_view_count": null,
            "_view_module": "@jupyter-widgets/controls",
            "_view_module_version": "1.5.0",
            "_view_name": "HBoxView",
            "box_style": "",
            "children": [
              "IPY_MODEL_be4d348e853a42f5bd6329bed9421e84",
              "IPY_MODEL_4e3e138de2be46d1b435834a2c6418fb",
              "IPY_MODEL_b78712e66453499281426caed2fb03c8"
            ],
            "layout": "IPY_MODEL_d97cb6a9a81e45cd98da7aaf05ba7bf0"
          }
        },
        "425a03befbf441b6ad349da69f50ffec": {
          "model_module": "@jupyter-widgets/base",
          "model_module_version": "1.2.0",
          "model_name": "LayoutModel",
          "state": {
            "_model_module": "@jupyter-widgets/base",
            "_model_module_version": "1.2.0",
            "_model_name": "LayoutModel",
            "_view_count": null,
            "_view_module": "@jupyter-widgets/base",
            "_view_module_version": "1.2.0",
            "_view_name": "LayoutView",
            "align_content": null,
            "align_items": null,
            "align_self": null,
            "border": null,
            "bottom": null,
            "display": null,
            "flex": null,
            "flex_flow": null,
            "grid_area": null,
            "grid_auto_columns": null,
            "grid_auto_flow": null,
            "grid_auto_rows": null,
            "grid_column": null,
            "grid_gap": null,
            "grid_row": null,
            "grid_template_areas": null,
            "grid_template_columns": null,
            "grid_template_rows": null,
            "height": null,
            "justify_content": null,
            "justify_items": null,
            "left": null,
            "margin": null,
            "max_height": null,
            "max_width": null,
            "min_height": null,
            "min_width": null,
            "object_fit": null,
            "object_position": null,
            "order": null,
            "overflow": null,
            "overflow_x": null,
            "overflow_y": null,
            "padding": null,
            "right": null,
            "top": null,
            "visibility": null,
            "width": null
          }
        },
        "45460580a77c4462a94d61531d8205ce": {
          "model_module": "@jupyter-widgets/controls",
          "model_module_version": "1.5.0",
          "model_name": "HTMLModel",
          "state": {
            "_dom_classes": [],
            "_model_module": "@jupyter-widgets/controls",
            "_model_module_version": "1.5.0",
            "_model_name": "HTMLModel",
            "_view_count": null,
            "_view_module": "@jupyter-widgets/controls",
            "_view_module_version": "1.5.0",
            "_view_name": "HTMLView",
            "description": "",
            "description_tooltip": null,
            "layout": "IPY_MODEL_8f27c0be8f2f41ba930e73993019456b",
            "placeholder": "​",
            "style": "IPY_MODEL_d6a04041aa0c46659faefbff355de55f",
            "value": " 2479/2479 [58:13&lt;00:00,  1.39it/s]"
          }
        },
        "46a18da413a74cdbba4c558c789e6ad8": {
          "model_module": "@jupyter-widgets/controls",
          "model_module_version": "1.5.0",
          "model_name": "HBoxModel",
          "state": {
            "_dom_classes": [],
            "_model_module": "@jupyter-widgets/controls",
            "_model_module_version": "1.5.0",
            "_model_name": "HBoxModel",
            "_view_count": null,
            "_view_module": "@jupyter-widgets/controls",
            "_view_module_version": "1.5.0",
            "_view_name": "HBoxView",
            "box_style": "",
            "children": [
              "IPY_MODEL_31841425a2bf437b9b5d7b2396c90ba7",
              "IPY_MODEL_f84df0b2b8734e92b6f927eb2a416d4f",
              "IPY_MODEL_74ec2a121efb4176b201d98d99ecfbb5"
            ],
            "layout": "IPY_MODEL_8563a4602f084449953d106067c90d57"
          }
        },
        "47f0cb4d66244e7890c96b3333ffbfe3": {
          "model_module": "@jupyter-widgets/controls",
          "model_module_version": "1.5.0",
          "model_name": "DescriptionStyleModel",
          "state": {
            "_model_module": "@jupyter-widgets/controls",
            "_model_module_version": "1.5.0",
            "_model_name": "DescriptionStyleModel",
            "_view_count": null,
            "_view_module": "@jupyter-widgets/base",
            "_view_module_version": "1.2.0",
            "_view_name": "StyleView",
            "description_width": ""
          }
        },
        "4ae92bc36c984bf9bab55a89fff2c5a6": {
          "model_module": "@jupyter-widgets/controls",
          "model_module_version": "1.5.0",
          "model_name": "DescriptionStyleModel",
          "state": {
            "_model_module": "@jupyter-widgets/controls",
            "_model_module_version": "1.5.0",
            "_model_name": "DescriptionStyleModel",
            "_view_count": null,
            "_view_module": "@jupyter-widgets/base",
            "_view_module_version": "1.2.0",
            "_view_name": "StyleView",
            "description_width": ""
          }
        },
        "4cfef5d07dc94450aa889930002dae4c": {
          "model_module": "@jupyter-widgets/base",
          "model_module_version": "1.2.0",
          "model_name": "LayoutModel",
          "state": {
            "_model_module": "@jupyter-widgets/base",
            "_model_module_version": "1.2.0",
            "_model_name": "LayoutModel",
            "_view_count": null,
            "_view_module": "@jupyter-widgets/base",
            "_view_module_version": "1.2.0",
            "_view_name": "LayoutView",
            "align_content": null,
            "align_items": null,
            "align_self": null,
            "border": null,
            "bottom": null,
            "display": null,
            "flex": null,
            "flex_flow": null,
            "grid_area": null,
            "grid_auto_columns": null,
            "grid_auto_flow": null,
            "grid_auto_rows": null,
            "grid_column": null,
            "grid_gap": null,
            "grid_row": null,
            "grid_template_areas": null,
            "grid_template_columns": null,
            "grid_template_rows": null,
            "height": null,
            "justify_content": null,
            "justify_items": null,
            "left": null,
            "margin": null,
            "max_height": null,
            "max_width": null,
            "min_height": null,
            "min_width": null,
            "object_fit": null,
            "object_position": null,
            "order": null,
            "overflow": null,
            "overflow_x": null,
            "overflow_y": null,
            "padding": null,
            "right": null,
            "top": null,
            "visibility": null,
            "width": null
          }
        },
        "4e3e138de2be46d1b435834a2c6418fb": {
          "model_module": "@jupyter-widgets/controls",
          "model_module_version": "1.5.0",
          "model_name": "FloatProgressModel",
          "state": {
            "_dom_classes": [],
            "_model_module": "@jupyter-widgets/controls",
            "_model_module_version": "1.5.0",
            "_model_name": "FloatProgressModel",
            "_view_count": null,
            "_view_module": "@jupyter-widgets/controls",
            "_view_module_version": "1.5.0",
            "_view_name": "ProgressView",
            "bar_style": "success",
            "description": "",
            "description_tooltip": null,
            "layout": "IPY_MODEL_b7bc6a8e0d254048b2b7a668ab654bbc",
            "max": 2479,
            "min": 0,
            "orientation": "horizontal",
            "style": "IPY_MODEL_29a8e765c8824f34988b0a4a3e3a80b6",
            "value": 2479
          }
        },
        "523dd6a90a1441dd88a1b9eb00d1a28f": {
          "model_module": "@jupyter-widgets/controls",
          "model_module_version": "1.5.0",
          "model_name": "HTMLModel",
          "state": {
            "_dom_classes": [],
            "_model_module": "@jupyter-widgets/controls",
            "_model_module_version": "1.5.0",
            "_model_name": "HTMLModel",
            "_view_count": null,
            "_view_module": "@jupyter-widgets/controls",
            "_view_module_version": "1.5.0",
            "_view_name": "HTMLView",
            "description": "",
            "description_tooltip": null,
            "layout": "IPY_MODEL_1b788da2c0464445b8f71ab405370700",
            "placeholder": "​",
            "style": "IPY_MODEL_7218fb8ecca74a3294770d91e4b55ef7",
            "value": " 548M/548M [00:12&lt;00:00, 36.3MB/s]"
          }
        },
        "5a006febd06248388337d9d00fbc45f2": {
          "model_module": "@jupyter-widgets/controls",
          "model_module_version": "1.5.0",
          "model_name": "DescriptionStyleModel",
          "state": {
            "_model_module": "@jupyter-widgets/controls",
            "_model_module_version": "1.5.0",
            "_model_name": "DescriptionStyleModel",
            "_view_count": null,
            "_view_module": "@jupyter-widgets/base",
            "_view_module_version": "1.2.0",
            "_view_name": "StyleView",
            "description_width": ""
          }
        },
        "65771648e1b94283b3477fa965e87c9b": {
          "model_module": "@jupyter-widgets/controls",
          "model_module_version": "1.5.0",
          "model_name": "HBoxModel",
          "state": {
            "_dom_classes": [],
            "_model_module": "@jupyter-widgets/controls",
            "_model_module_version": "1.5.0",
            "_model_name": "HBoxModel",
            "_view_count": null,
            "_view_module": "@jupyter-widgets/controls",
            "_view_module_version": "1.5.0",
            "_view_name": "HBoxView",
            "box_style": "",
            "children": [
              "IPY_MODEL_302116fccc1140ddb053100013041946",
              "IPY_MODEL_a23b4860d9334474ac110b22c8eed3be",
              "IPY_MODEL_7626fa64ceb44eaaa561d105fedfd395"
            ],
            "layout": "IPY_MODEL_00e9885007c7467fa7fb5447c64bfe75"
          }
        },
        "66b07d3f27f24ff5b34b5e717491edcc": {
          "model_module": "@jupyter-widgets/base",
          "model_module_version": "1.2.0",
          "model_name": "LayoutModel",
          "state": {
            "_model_module": "@jupyter-widgets/base",
            "_model_module_version": "1.2.0",
            "_model_name": "LayoutModel",
            "_view_count": null,
            "_view_module": "@jupyter-widgets/base",
            "_view_module_version": "1.2.0",
            "_view_name": "LayoutView",
            "align_content": null,
            "align_items": null,
            "align_self": null,
            "border": null,
            "bottom": null,
            "display": null,
            "flex": null,
            "flex_flow": null,
            "grid_area": null,
            "grid_auto_columns": null,
            "grid_auto_flow": null,
            "grid_auto_rows": null,
            "grid_column": null,
            "grid_gap": null,
            "grid_row": null,
            "grid_template_areas": null,
            "grid_template_columns": null,
            "grid_template_rows": null,
            "height": null,
            "justify_content": null,
            "justify_items": null,
            "left": null,
            "margin": null,
            "max_height": null,
            "max_width": null,
            "min_height": null,
            "min_width": null,
            "object_fit": null,
            "object_position": null,
            "order": null,
            "overflow": null,
            "overflow_x": null,
            "overflow_y": null,
            "padding": null,
            "right": null,
            "top": null,
            "visibility": null,
            "width": null
          }
        },
        "68ac7dc6a5694b63af6fbd211901fab3": {
          "model_module": "@jupyter-widgets/base",
          "model_module_version": "1.2.0",
          "model_name": "LayoutModel",
          "state": {
            "_model_module": "@jupyter-widgets/base",
            "_model_module_version": "1.2.0",
            "_model_name": "LayoutModel",
            "_view_count": null,
            "_view_module": "@jupyter-widgets/base",
            "_view_module_version": "1.2.0",
            "_view_name": "LayoutView",
            "align_content": null,
            "align_items": null,
            "align_self": null,
            "border": null,
            "bottom": null,
            "display": null,
            "flex": null,
            "flex_flow": null,
            "grid_area": null,
            "grid_auto_columns": null,
            "grid_auto_flow": null,
            "grid_auto_rows": null,
            "grid_column": null,
            "grid_gap": null,
            "grid_row": null,
            "grid_template_areas": null,
            "grid_template_columns": null,
            "grid_template_rows": null,
            "height": null,
            "justify_content": null,
            "justify_items": null,
            "left": null,
            "margin": null,
            "max_height": null,
            "max_width": null,
            "min_height": null,
            "min_width": null,
            "object_fit": null,
            "object_position": null,
            "order": null,
            "overflow": null,
            "overflow_x": null,
            "overflow_y": null,
            "padding": null,
            "right": null,
            "top": null,
            "visibility": null,
            "width": null
          }
        },
        "6b2af70546594af8b3c2b6233e1f435f": {
          "model_module": "@jupyter-widgets/controls",
          "model_module_version": "1.5.0",
          "model_name": "FloatProgressModel",
          "state": {
            "_dom_classes": [],
            "_model_module": "@jupyter-widgets/controls",
            "_model_module_version": "1.5.0",
            "_model_name": "FloatProgressModel",
            "_view_count": null,
            "_view_module": "@jupyter-widgets/controls",
            "_view_module_version": "1.5.0",
            "_view_name": "ProgressView",
            "bar_style": "success",
            "description": "",
            "description_tooltip": null,
            "layout": "IPY_MODEL_1f7e62562c834a06b25c2201f873db17",
            "max": 2479,
            "min": 0,
            "orientation": "horizontal",
            "style": "IPY_MODEL_7964c0a1f7884472ae801f5b96cfde3c",
            "value": 2479
          }
        },
        "7171a11cf63b4a0c8a2dc462893e9c7a": {
          "model_module": "@jupyter-widgets/controls",
          "model_module_version": "1.5.0",
          "model_name": "ProgressStyleModel",
          "state": {
            "_model_module": "@jupyter-widgets/controls",
            "_model_module_version": "1.5.0",
            "_model_name": "ProgressStyleModel",
            "_view_count": null,
            "_view_module": "@jupyter-widgets/base",
            "_view_module_version": "1.2.0",
            "_view_name": "StyleView",
            "bar_color": null,
            "description_width": ""
          }
        },
        "7218fb8ecca74a3294770d91e4b55ef7": {
          "model_module": "@jupyter-widgets/controls",
          "model_module_version": "1.5.0",
          "model_name": "DescriptionStyleModel",
          "state": {
            "_model_module": "@jupyter-widgets/controls",
            "_model_module_version": "1.5.0",
            "_model_name": "DescriptionStyleModel",
            "_view_count": null,
            "_view_module": "@jupyter-widgets/base",
            "_view_module_version": "1.2.0",
            "_view_name": "StyleView",
            "description_width": ""
          }
        },
        "727624eec5bf43bc81c15879096996b3": {
          "model_module": "@jupyter-widgets/base",
          "model_module_version": "1.2.0",
          "model_name": "LayoutModel",
          "state": {
            "_model_module": "@jupyter-widgets/base",
            "_model_module_version": "1.2.0",
            "_model_name": "LayoutModel",
            "_view_count": null,
            "_view_module": "@jupyter-widgets/base",
            "_view_module_version": "1.2.0",
            "_view_name": "LayoutView",
            "align_content": null,
            "align_items": null,
            "align_self": null,
            "border": null,
            "bottom": null,
            "display": null,
            "flex": null,
            "flex_flow": null,
            "grid_area": null,
            "grid_auto_columns": null,
            "grid_auto_flow": null,
            "grid_auto_rows": null,
            "grid_column": null,
            "grid_gap": null,
            "grid_row": null,
            "grid_template_areas": null,
            "grid_template_columns": null,
            "grid_template_rows": null,
            "height": null,
            "justify_content": null,
            "justify_items": null,
            "left": null,
            "margin": null,
            "max_height": null,
            "max_width": null,
            "min_height": null,
            "min_width": null,
            "object_fit": null,
            "object_position": null,
            "order": null,
            "overflow": null,
            "overflow_x": null,
            "overflow_y": null,
            "padding": null,
            "right": null,
            "top": null,
            "visibility": null,
            "width": null
          }
        },
        "74ec2a121efb4176b201d98d99ecfbb5": {
          "model_module": "@jupyter-widgets/controls",
          "model_module_version": "1.5.0",
          "model_name": "HTMLModel",
          "state": {
            "_dom_classes": [],
            "_model_module": "@jupyter-widgets/controls",
            "_model_module_version": "1.5.0",
            "_model_name": "HTMLModel",
            "_view_count": null,
            "_view_module": "@jupyter-widgets/controls",
            "_view_module_version": "1.5.0",
            "_view_name": "HTMLView",
            "description": "",
            "description_tooltip": null,
            "layout": "IPY_MODEL_967346ea1c324c569622f8681cb3e4c5",
            "placeholder": "​",
            "style": "IPY_MODEL_5a006febd06248388337d9d00fbc45f2",
            "value": " 2479/2479 [29:49&lt;00:00,  1.39it/s]"
          }
        },
        "7626fa64ceb44eaaa561d105fedfd395": {
          "model_module": "@jupyter-widgets/controls",
          "model_module_version": "1.5.0",
          "model_name": "HTMLModel",
          "state": {
            "_dom_classes": [],
            "_model_module": "@jupyter-widgets/controls",
            "_model_module_version": "1.5.0",
            "_model_name": "HTMLModel",
            "_view_count": null,
            "_view_module": "@jupyter-widgets/controls",
            "_view_module_version": "1.5.0",
            "_view_name": "HTMLView",
            "description": "",
            "description_tooltip": null,
            "layout": "IPY_MODEL_300629b2763d4837b1b8b5a1490f4c26",
            "placeholder": "​",
            "style": "IPY_MODEL_c4bec2493b094fad98a10f8e78fdc289",
            "value": " 2479/2479 [29:48&lt;00:00,  1.39it/s]"
          }
        },
        "7964c0a1f7884472ae801f5b96cfde3c": {
          "model_module": "@jupyter-widgets/controls",
          "model_module_version": "1.5.0",
          "model_name": "ProgressStyleModel",
          "state": {
            "_model_module": "@jupyter-widgets/controls",
            "_model_module_version": "1.5.0",
            "_model_name": "ProgressStyleModel",
            "_view_count": null,
            "_view_module": "@jupyter-widgets/base",
            "_view_module_version": "1.2.0",
            "_view_name": "StyleView",
            "bar_color": null,
            "description_width": ""
          }
        },
        "7e254e8a16aa4af489025031a113664c": {
          "model_module": "@jupyter-widgets/base",
          "model_module_version": "1.2.0",
          "model_name": "LayoutModel",
          "state": {
            "_model_module": "@jupyter-widgets/base",
            "_model_module_version": "1.2.0",
            "_model_name": "LayoutModel",
            "_view_count": null,
            "_view_module": "@jupyter-widgets/base",
            "_view_module_version": "1.2.0",
            "_view_name": "LayoutView",
            "align_content": null,
            "align_items": null,
            "align_self": null,
            "border": null,
            "bottom": null,
            "display": null,
            "flex": null,
            "flex_flow": null,
            "grid_area": null,
            "grid_auto_columns": null,
            "grid_auto_flow": null,
            "grid_auto_rows": null,
            "grid_column": null,
            "grid_gap": null,
            "grid_row": null,
            "grid_template_areas": null,
            "grid_template_columns": null,
            "grid_template_rows": null,
            "height": null,
            "justify_content": null,
            "justify_items": null,
            "left": null,
            "margin": null,
            "max_height": null,
            "max_width": null,
            "min_height": null,
            "min_width": null,
            "object_fit": null,
            "object_position": null,
            "order": null,
            "overflow": null,
            "overflow_x": null,
            "overflow_y": null,
            "padding": null,
            "right": null,
            "top": null,
            "visibility": null,
            "width": null
          }
        },
        "8563a4602f084449953d106067c90d57": {
          "model_module": "@jupyter-widgets/base",
          "model_module_version": "1.2.0",
          "model_name": "LayoutModel",
          "state": {
            "_model_module": "@jupyter-widgets/base",
            "_model_module_version": "1.2.0",
            "_model_name": "LayoutModel",
            "_view_count": null,
            "_view_module": "@jupyter-widgets/base",
            "_view_module_version": "1.2.0",
            "_view_name": "LayoutView",
            "align_content": null,
            "align_items": null,
            "align_self": null,
            "border": null,
            "bottom": null,
            "display": null,
            "flex": null,
            "flex_flow": null,
            "grid_area": null,
            "grid_auto_columns": null,
            "grid_auto_flow": null,
            "grid_auto_rows": null,
            "grid_column": null,
            "grid_gap": null,
            "grid_row": null,
            "grid_template_areas": null,
            "grid_template_columns": null,
            "grid_template_rows": null,
            "height": null,
            "justify_content": null,
            "justify_items": null,
            "left": null,
            "margin": null,
            "max_height": null,
            "max_width": null,
            "min_height": null,
            "min_width": null,
            "object_fit": null,
            "object_position": null,
            "order": null,
            "overflow": null,
            "overflow_x": null,
            "overflow_y": null,
            "padding": null,
            "right": null,
            "top": null,
            "visibility": null,
            "width": null
          }
        },
        "8a851d166e6143aab835ab956e6303f6": {
          "model_module": "@jupyter-widgets/controls",
          "model_module_version": "1.5.0",
          "model_name": "ProgressStyleModel",
          "state": {
            "_model_module": "@jupyter-widgets/controls",
            "_model_module_version": "1.5.0",
            "_model_name": "ProgressStyleModel",
            "_view_count": null,
            "_view_module": "@jupyter-widgets/base",
            "_view_module_version": "1.2.0",
            "_view_name": "StyleView",
            "bar_color": null,
            "description_width": ""
          }
        },
        "8b9aaf5f9496479b92b0aedbda44620e": {
          "model_module": "@jupyter-widgets/base",
          "model_module_version": "1.2.0",
          "model_name": "LayoutModel",
          "state": {
            "_model_module": "@jupyter-widgets/base",
            "_model_module_version": "1.2.0",
            "_model_name": "LayoutModel",
            "_view_count": null,
            "_view_module": "@jupyter-widgets/base",
            "_view_module_version": "1.2.0",
            "_view_name": "LayoutView",
            "align_content": null,
            "align_items": null,
            "align_self": null,
            "border": null,
            "bottom": null,
            "display": null,
            "flex": null,
            "flex_flow": null,
            "grid_area": null,
            "grid_auto_columns": null,
            "grid_auto_flow": null,
            "grid_auto_rows": null,
            "grid_column": null,
            "grid_gap": null,
            "grid_row": null,
            "grid_template_areas": null,
            "grid_template_columns": null,
            "grid_template_rows": null,
            "height": null,
            "justify_content": null,
            "justify_items": null,
            "left": null,
            "margin": null,
            "max_height": null,
            "max_width": null,
            "min_height": null,
            "min_width": null,
            "object_fit": null,
            "object_position": null,
            "order": null,
            "overflow": null,
            "overflow_x": null,
            "overflow_y": null,
            "padding": null,
            "right": null,
            "top": null,
            "visibility": null,
            "width": null
          }
        },
        "8f27c0be8f2f41ba930e73993019456b": {
          "model_module": "@jupyter-widgets/base",
          "model_module_version": "1.2.0",
          "model_name": "LayoutModel",
          "state": {
            "_model_module": "@jupyter-widgets/base",
            "_model_module_version": "1.2.0",
            "_model_name": "LayoutModel",
            "_view_count": null,
            "_view_module": "@jupyter-widgets/base",
            "_view_module_version": "1.2.0",
            "_view_name": "LayoutView",
            "align_content": null,
            "align_items": null,
            "align_self": null,
            "border": null,
            "bottom": null,
            "display": null,
            "flex": null,
            "flex_flow": null,
            "grid_area": null,
            "grid_auto_columns": null,
            "grid_auto_flow": null,
            "grid_auto_rows": null,
            "grid_column": null,
            "grid_gap": null,
            "grid_row": null,
            "grid_template_areas": null,
            "grid_template_columns": null,
            "grid_template_rows": null,
            "height": null,
            "justify_content": null,
            "justify_items": null,
            "left": null,
            "margin": null,
            "max_height": null,
            "max_width": null,
            "min_height": null,
            "min_width": null,
            "object_fit": null,
            "object_position": null,
            "order": null,
            "overflow": null,
            "overflow_x": null,
            "overflow_y": null,
            "padding": null,
            "right": null,
            "top": null,
            "visibility": null,
            "width": null
          }
        },
        "9039ae8252ad47c5acf1562953c3f371": {
          "model_module": "@jupyter-widgets/controls",
          "model_module_version": "1.5.0",
          "model_name": "HBoxModel",
          "state": {
            "_dom_classes": [],
            "_model_module": "@jupyter-widgets/controls",
            "_model_module_version": "1.5.0",
            "_model_name": "HBoxModel",
            "_view_count": null,
            "_view_module": "@jupyter-widgets/controls",
            "_view_module_version": "1.5.0",
            "_view_name": "HBoxView",
            "box_style": "",
            "children": [
              "IPY_MODEL_08a26d88983a4b1a906efc5d710d05a1",
              "IPY_MODEL_6b2af70546594af8b3c2b6233e1f435f",
              "IPY_MODEL_04711b1f29a343999d82064cce7c636c"
            ],
            "layout": "IPY_MODEL_7e254e8a16aa4af489025031a113664c"
          }
        },
        "94e85acc89fd4efba275e3ed61a1cc15": {
          "model_module": "@jupyter-widgets/base",
          "model_module_version": "1.2.0",
          "model_name": "LayoutModel",
          "state": {
            "_model_module": "@jupyter-widgets/base",
            "_model_module_version": "1.2.0",
            "_model_name": "LayoutModel",
            "_view_count": null,
            "_view_module": "@jupyter-widgets/base",
            "_view_module_version": "1.2.0",
            "_view_name": "LayoutView",
            "align_content": null,
            "align_items": null,
            "align_self": null,
            "border": null,
            "bottom": null,
            "display": null,
            "flex": null,
            "flex_flow": null,
            "grid_area": null,
            "grid_auto_columns": null,
            "grid_auto_flow": null,
            "grid_auto_rows": null,
            "grid_column": null,
            "grid_gap": null,
            "grid_row": null,
            "grid_template_areas": null,
            "grid_template_columns": null,
            "grid_template_rows": null,
            "height": null,
            "justify_content": null,
            "justify_items": null,
            "left": null,
            "margin": null,
            "max_height": null,
            "max_width": null,
            "min_height": null,
            "min_width": null,
            "object_fit": null,
            "object_position": null,
            "order": null,
            "overflow": null,
            "overflow_x": null,
            "overflow_y": null,
            "padding": null,
            "right": null,
            "top": null,
            "visibility": null,
            "width": null
          }
        },
        "967346ea1c324c569622f8681cb3e4c5": {
          "model_module": "@jupyter-widgets/base",
          "model_module_version": "1.2.0",
          "model_name": "LayoutModel",
          "state": {
            "_model_module": "@jupyter-widgets/base",
            "_model_module_version": "1.2.0",
            "_model_name": "LayoutModel",
            "_view_count": null,
            "_view_module": "@jupyter-widgets/base",
            "_view_module_version": "1.2.0",
            "_view_name": "LayoutView",
            "align_content": null,
            "align_items": null,
            "align_self": null,
            "border": null,
            "bottom": null,
            "display": null,
            "flex": null,
            "flex_flow": null,
            "grid_area": null,
            "grid_auto_columns": null,
            "grid_auto_flow": null,
            "grid_auto_rows": null,
            "grid_column": null,
            "grid_gap": null,
            "grid_row": null,
            "grid_template_areas": null,
            "grid_template_columns": null,
            "grid_template_rows": null,
            "height": null,
            "justify_content": null,
            "justify_items": null,
            "left": null,
            "margin": null,
            "max_height": null,
            "max_width": null,
            "min_height": null,
            "min_width": null,
            "object_fit": null,
            "object_position": null,
            "order": null,
            "overflow": null,
            "overflow_x": null,
            "overflow_y": null,
            "padding": null,
            "right": null,
            "top": null,
            "visibility": null,
            "width": null
          }
        },
        "993d8f86fc2b4e729b6a414b4b7f6599": {
          "model_module": "@jupyter-widgets/base",
          "model_module_version": "1.2.0",
          "model_name": "LayoutModel",
          "state": {
            "_model_module": "@jupyter-widgets/base",
            "_model_module_version": "1.2.0",
            "_model_name": "LayoutModel",
            "_view_count": null,
            "_view_module": "@jupyter-widgets/base",
            "_view_module_version": "1.2.0",
            "_view_name": "LayoutView",
            "align_content": null,
            "align_items": null,
            "align_self": null,
            "border": null,
            "bottom": null,
            "display": null,
            "flex": null,
            "flex_flow": null,
            "grid_area": null,
            "grid_auto_columns": null,
            "grid_auto_flow": null,
            "grid_auto_rows": null,
            "grid_column": null,
            "grid_gap": null,
            "grid_row": null,
            "grid_template_areas": null,
            "grid_template_columns": null,
            "grid_template_rows": null,
            "height": null,
            "justify_content": null,
            "justify_items": null,
            "left": null,
            "margin": null,
            "max_height": null,
            "max_width": null,
            "min_height": null,
            "min_width": null,
            "object_fit": null,
            "object_position": null,
            "order": null,
            "overflow": null,
            "overflow_x": null,
            "overflow_y": null,
            "padding": null,
            "right": null,
            "top": null,
            "visibility": null,
            "width": null
          }
        },
        "9e74552250d244a6b6dbea27bf5f8782": {
          "model_module": "@jupyter-widgets/controls",
          "model_module_version": "1.5.0",
          "model_name": "FloatProgressModel",
          "state": {
            "_dom_classes": [],
            "_model_module": "@jupyter-widgets/controls",
            "_model_module_version": "1.5.0",
            "_model_name": "FloatProgressModel",
            "_view_count": null,
            "_view_module": "@jupyter-widgets/controls",
            "_view_module_version": "1.5.0",
            "_view_name": "ProgressView",
            "bar_style": "success",
            "description": "",
            "description_tooltip": null,
            "layout": "IPY_MODEL_20161d39f4b94b429f8e56013ad93b54",
            "max": 2479,
            "min": 0,
            "orientation": "horizontal",
            "style": "IPY_MODEL_8a851d166e6143aab835ab956e6303f6",
            "value": 2479
          }
        },
        "a23b4860d9334474ac110b22c8eed3be": {
          "model_module": "@jupyter-widgets/controls",
          "model_module_version": "1.5.0",
          "model_name": "FloatProgressModel",
          "state": {
            "_dom_classes": [],
            "_model_module": "@jupyter-widgets/controls",
            "_model_module_version": "1.5.0",
            "_model_name": "FloatProgressModel",
            "_view_count": null,
            "_view_module": "@jupyter-widgets/controls",
            "_view_module_version": "1.5.0",
            "_view_name": "ProgressView",
            "bar_style": "",
            "description": "",
            "description_tooltip": null,
            "layout": "IPY_MODEL_94e85acc89fd4efba275e3ed61a1cc15",
            "max": 2479,
            "min": 0,
            "orientation": "horizontal",
            "style": "IPY_MODEL_7171a11cf63b4a0c8a2dc462893e9c7a",
            "value": 2479
          }
        },
        "b78712e66453499281426caed2fb03c8": {
          "model_module": "@jupyter-widgets/controls",
          "model_module_version": "1.5.0",
          "model_name": "HTMLModel",
          "state": {
            "_dom_classes": [],
            "_model_module": "@jupyter-widgets/controls",
            "_model_module_version": "1.5.0",
            "_model_name": "HTMLModel",
            "_view_count": null,
            "_view_module": "@jupyter-widgets/controls",
            "_view_module_version": "1.5.0",
            "_view_name": "HTMLView",
            "description": "",
            "description_tooltip": null,
            "layout": "IPY_MODEL_d0cdbc7ea12e4f31a73f88f196a282be",
            "placeholder": "​",
            "style": "IPY_MODEL_fb953a30991a463bacb7cb9d654514bd",
            "value": " 2479/2479 [1:57:47&lt;00:00,  1.39it/s]"
          }
        },
        "b7bc6a8e0d254048b2b7a668ab654bbc": {
          "model_module": "@jupyter-widgets/base",
          "model_module_version": "1.2.0",
          "model_name": "LayoutModel",
          "state": {
            "_model_module": "@jupyter-widgets/base",
            "_model_module_version": "1.2.0",
            "_model_name": "LayoutModel",
            "_view_count": null,
            "_view_module": "@jupyter-widgets/base",
            "_view_module_version": "1.2.0",
            "_view_name": "LayoutView",
            "align_content": null,
            "align_items": null,
            "align_self": null,
            "border": null,
            "bottom": null,
            "display": null,
            "flex": null,
            "flex_flow": null,
            "grid_area": null,
            "grid_auto_columns": null,
            "grid_auto_flow": null,
            "grid_auto_rows": null,
            "grid_column": null,
            "grid_gap": null,
            "grid_row": null,
            "grid_template_areas": null,
            "grid_template_columns": null,
            "grid_template_rows": null,
            "height": null,
            "justify_content": null,
            "justify_items": null,
            "left": null,
            "margin": null,
            "max_height": null,
            "max_width": null,
            "min_height": null,
            "min_width": null,
            "object_fit": null,
            "object_position": null,
            "order": null,
            "overflow": null,
            "overflow_x": null,
            "overflow_y": null,
            "padding": null,
            "right": null,
            "top": null,
            "visibility": null,
            "width": null
          }
        },
        "be4d348e853a42f5bd6329bed9421e84": {
          "model_module": "@jupyter-widgets/controls",
          "model_module_version": "1.5.0",
          "model_name": "HTMLModel",
          "state": {
            "_dom_classes": [],
            "_model_module": "@jupyter-widgets/controls",
            "_model_module_version": "1.5.0",
            "_model_name": "HTMLModel",
            "_view_count": null,
            "_view_module": "@jupyter-widgets/controls",
            "_view_module_version": "1.5.0",
            "_view_name": "HTMLView",
            "description": "",
            "description_tooltip": null,
            "layout": "IPY_MODEL_e9cc212ffd554f1aa84682a8ef1d128c",
            "placeholder": "​",
            "style": "IPY_MODEL_ca877034674a4521a1d2a9349afc9a34",
            "value": "100%"
          }
        },
        "c4bec2493b094fad98a10f8e78fdc289": {
          "model_module": "@jupyter-widgets/controls",
          "model_module_version": "1.5.0",
          "model_name": "DescriptionStyleModel",
          "state": {
            "_model_module": "@jupyter-widgets/controls",
            "_model_module_version": "1.5.0",
            "_model_name": "DescriptionStyleModel",
            "_view_count": null,
            "_view_module": "@jupyter-widgets/base",
            "_view_module_version": "1.2.0",
            "_view_name": "StyleView",
            "description_width": ""
          }
        },
        "ca877034674a4521a1d2a9349afc9a34": {
          "model_module": "@jupyter-widgets/controls",
          "model_module_version": "1.5.0",
          "model_name": "DescriptionStyleModel",
          "state": {
            "_model_module": "@jupyter-widgets/controls",
            "_model_module_version": "1.5.0",
            "_model_name": "DescriptionStyleModel",
            "_view_count": null,
            "_view_module": "@jupyter-widgets/base",
            "_view_module_version": "1.2.0",
            "_view_name": "StyleView",
            "description_width": ""
          }
        },
        "d0cdbc7ea12e4f31a73f88f196a282be": {
          "model_module": "@jupyter-widgets/base",
          "model_module_version": "1.2.0",
          "model_name": "LayoutModel",
          "state": {
            "_model_module": "@jupyter-widgets/base",
            "_model_module_version": "1.2.0",
            "_model_name": "LayoutModel",
            "_view_count": null,
            "_view_module": "@jupyter-widgets/base",
            "_view_module_version": "1.2.0",
            "_view_name": "LayoutView",
            "align_content": null,
            "align_items": null,
            "align_self": null,
            "border": null,
            "bottom": null,
            "display": null,
            "flex": null,
            "flex_flow": null,
            "grid_area": null,
            "grid_auto_columns": null,
            "grid_auto_flow": null,
            "grid_auto_rows": null,
            "grid_column": null,
            "grid_gap": null,
            "grid_row": null,
            "grid_template_areas": null,
            "grid_template_columns": null,
            "grid_template_rows": null,
            "height": null,
            "justify_content": null,
            "justify_items": null,
            "left": null,
            "margin": null,
            "max_height": null,
            "max_width": null,
            "min_height": null,
            "min_width": null,
            "object_fit": null,
            "object_position": null,
            "order": null,
            "overflow": null,
            "overflow_x": null,
            "overflow_y": null,
            "padding": null,
            "right": null,
            "top": null,
            "visibility": null,
            "width": null
          }
        },
        "d513cd3b9feb49fabd9d5532ecbcfa75": {
          "model_module": "@jupyter-widgets/controls",
          "model_module_version": "1.5.0",
          "model_name": "HTMLModel",
          "state": {
            "_dom_classes": [],
            "_model_module": "@jupyter-widgets/controls",
            "_model_module_version": "1.5.0",
            "_model_name": "HTMLModel",
            "_view_count": null,
            "_view_module": "@jupyter-widgets/controls",
            "_view_module_version": "1.5.0",
            "_view_name": "HTMLView",
            "description": "",
            "description_tooltip": null,
            "layout": "IPY_MODEL_66b07d3f27f24ff5b34b5e717491edcc",
            "placeholder": "​",
            "style": "IPY_MODEL_fef4d27c702542378eb5a23372a4a78e",
            "value": "Downloading: 100%"
          }
        },
        "d6a04041aa0c46659faefbff355de55f": {
          "model_module": "@jupyter-widgets/controls",
          "model_module_version": "1.5.0",
          "model_name": "DescriptionStyleModel",
          "state": {
            "_model_module": "@jupyter-widgets/controls",
            "_model_module_version": "1.5.0",
            "_model_name": "DescriptionStyleModel",
            "_view_count": null,
            "_view_module": "@jupyter-widgets/base",
            "_view_module_version": "1.2.0",
            "_view_name": "StyleView",
            "description_width": ""
          }
        },
        "d97cb6a9a81e45cd98da7aaf05ba7bf0": {
          "model_module": "@jupyter-widgets/base",
          "model_module_version": "1.2.0",
          "model_name": "LayoutModel",
          "state": {
            "_model_module": "@jupyter-widgets/base",
            "_model_module_version": "1.2.0",
            "_model_name": "LayoutModel",
            "_view_count": null,
            "_view_module": "@jupyter-widgets/base",
            "_view_module_version": "1.2.0",
            "_view_name": "LayoutView",
            "align_content": null,
            "align_items": null,
            "align_self": null,
            "border": null,
            "bottom": null,
            "display": null,
            "flex": null,
            "flex_flow": null,
            "grid_area": null,
            "grid_auto_columns": null,
            "grid_auto_flow": null,
            "grid_auto_rows": null,
            "grid_column": null,
            "grid_gap": null,
            "grid_row": null,
            "grid_template_areas": null,
            "grid_template_columns": null,
            "grid_template_rows": null,
            "height": null,
            "justify_content": null,
            "justify_items": null,
            "left": null,
            "margin": null,
            "max_height": null,
            "max_width": null,
            "min_height": null,
            "min_width": null,
            "object_fit": null,
            "object_position": null,
            "order": null,
            "overflow": null,
            "overflow_x": null,
            "overflow_y": null,
            "padding": null,
            "right": null,
            "top": null,
            "visibility": null,
            "width": null
          }
        },
        "e4d8db3b7a7d4fd38e207a70e165c994": {
          "model_module": "@jupyter-widgets/base",
          "model_module_version": "1.2.0",
          "model_name": "LayoutModel",
          "state": {
            "_model_module": "@jupyter-widgets/base",
            "_model_module_version": "1.2.0",
            "_model_name": "LayoutModel",
            "_view_count": null,
            "_view_module": "@jupyter-widgets/base",
            "_view_module_version": "1.2.0",
            "_view_name": "LayoutView",
            "align_content": null,
            "align_items": null,
            "align_self": null,
            "border": null,
            "bottom": null,
            "display": null,
            "flex": null,
            "flex_flow": null,
            "grid_area": null,
            "grid_auto_columns": null,
            "grid_auto_flow": null,
            "grid_auto_rows": null,
            "grid_column": null,
            "grid_gap": null,
            "grid_row": null,
            "grid_template_areas": null,
            "grid_template_columns": null,
            "grid_template_rows": null,
            "height": null,
            "justify_content": null,
            "justify_items": null,
            "left": null,
            "margin": null,
            "max_height": null,
            "max_width": null,
            "min_height": null,
            "min_width": null,
            "object_fit": null,
            "object_position": null,
            "order": null,
            "overflow": null,
            "overflow_x": null,
            "overflow_y": null,
            "padding": null,
            "right": null,
            "top": null,
            "visibility": null,
            "width": null
          }
        },
        "e884b9f37df34f1eb1cd977248deaf25": {
          "model_module": "@jupyter-widgets/controls",
          "model_module_version": "1.5.0",
          "model_name": "DescriptionStyleModel",
          "state": {
            "_model_module": "@jupyter-widgets/controls",
            "_model_module_version": "1.5.0",
            "_model_name": "DescriptionStyleModel",
            "_view_count": null,
            "_view_module": "@jupyter-widgets/base",
            "_view_module_version": "1.2.0",
            "_view_name": "StyleView",
            "description_width": ""
          }
        },
        "e9cc212ffd554f1aa84682a8ef1d128c": {
          "model_module": "@jupyter-widgets/base",
          "model_module_version": "1.2.0",
          "model_name": "LayoutModel",
          "state": {
            "_model_module": "@jupyter-widgets/base",
            "_model_module_version": "1.2.0",
            "_model_name": "LayoutModel",
            "_view_count": null,
            "_view_module": "@jupyter-widgets/base",
            "_view_module_version": "1.2.0",
            "_view_name": "LayoutView",
            "align_content": null,
            "align_items": null,
            "align_self": null,
            "border": null,
            "bottom": null,
            "display": null,
            "flex": null,
            "flex_flow": null,
            "grid_area": null,
            "grid_auto_columns": null,
            "grid_auto_flow": null,
            "grid_auto_rows": null,
            "grid_column": null,
            "grid_gap": null,
            "grid_row": null,
            "grid_template_areas": null,
            "grid_template_columns": null,
            "grid_template_rows": null,
            "height": null,
            "justify_content": null,
            "justify_items": null,
            "left": null,
            "margin": null,
            "max_height": null,
            "max_width": null,
            "min_height": null,
            "min_width": null,
            "object_fit": null,
            "object_position": null,
            "order": null,
            "overflow": null,
            "overflow_x": null,
            "overflow_y": null,
            "padding": null,
            "right": null,
            "top": null,
            "visibility": null,
            "width": null
          }
        },
        "f3c87195aec54c4eba3aa0a8e61df06f": {
          "model_module": "@jupyter-widgets/base",
          "model_module_version": "1.2.0",
          "model_name": "LayoutModel",
          "state": {
            "_model_module": "@jupyter-widgets/base",
            "_model_module_version": "1.2.0",
            "_model_name": "LayoutModel",
            "_view_count": null,
            "_view_module": "@jupyter-widgets/base",
            "_view_module_version": "1.2.0",
            "_view_name": "LayoutView",
            "align_content": null,
            "align_items": null,
            "align_self": null,
            "border": null,
            "bottom": null,
            "display": null,
            "flex": null,
            "flex_flow": null,
            "grid_area": null,
            "grid_auto_columns": null,
            "grid_auto_flow": null,
            "grid_auto_rows": null,
            "grid_column": null,
            "grid_gap": null,
            "grid_row": null,
            "grid_template_areas": null,
            "grid_template_columns": null,
            "grid_template_rows": null,
            "height": null,
            "justify_content": null,
            "justify_items": null,
            "left": null,
            "margin": null,
            "max_height": null,
            "max_width": null,
            "min_height": null,
            "min_width": null,
            "object_fit": null,
            "object_position": null,
            "order": null,
            "overflow": null,
            "overflow_x": null,
            "overflow_y": null,
            "padding": null,
            "right": null,
            "top": null,
            "visibility": null,
            "width": null
          }
        },
        "f621c2fc053b4450b4173c4c7fe7685e": {
          "model_module": "@jupyter-widgets/controls",
          "model_module_version": "1.5.0",
          "model_name": "DescriptionStyleModel",
          "state": {
            "_model_module": "@jupyter-widgets/controls",
            "_model_module_version": "1.5.0",
            "_model_name": "DescriptionStyleModel",
            "_view_count": null,
            "_view_module": "@jupyter-widgets/base",
            "_view_module_version": "1.2.0",
            "_view_name": "StyleView",
            "description_width": ""
          }
        },
        "f84df0b2b8734e92b6f927eb2a416d4f": {
          "model_module": "@jupyter-widgets/controls",
          "model_module_version": "1.5.0",
          "model_name": "FloatProgressModel",
          "state": {
            "_dom_classes": [],
            "_model_module": "@jupyter-widgets/controls",
            "_model_module_version": "1.5.0",
            "_model_name": "FloatProgressModel",
            "_view_count": null,
            "_view_module": "@jupyter-widgets/controls",
            "_view_module_version": "1.5.0",
            "_view_name": "ProgressView",
            "bar_style": "",
            "description": "",
            "description_tooltip": null,
            "layout": "IPY_MODEL_425a03befbf441b6ad349da69f50ffec",
            "max": 2479,
            "min": 0,
            "orientation": "horizontal",
            "style": "IPY_MODEL_2033da88193e4c92bcb50e1d61667a38",
            "value": 2479
          }
        },
        "fb953a30991a463bacb7cb9d654514bd": {
          "model_module": "@jupyter-widgets/controls",
          "model_module_version": "1.5.0",
          "model_name": "DescriptionStyleModel",
          "state": {
            "_model_module": "@jupyter-widgets/controls",
            "_model_module_version": "1.5.0",
            "_model_name": "DescriptionStyleModel",
            "_view_count": null,
            "_view_module": "@jupyter-widgets/base",
            "_view_module_version": "1.2.0",
            "_view_name": "StyleView",
            "description_width": ""
          }
        },
        "fef4d27c702542378eb5a23372a4a78e": {
          "model_module": "@jupyter-widgets/controls",
          "model_module_version": "1.5.0",
          "model_name": "DescriptionStyleModel",
          "state": {
            "_model_module": "@jupyter-widgets/controls",
            "_model_module_version": "1.5.0",
            "_model_name": "DescriptionStyleModel",
            "_view_count": null,
            "_view_module": "@jupyter-widgets/base",
            "_view_module_version": "1.2.0",
            "_view_name": "StyleView",
            "description_width": ""
          }
        }
      }
    }
  },
  "nbformat": 4,
  "nbformat_minor": 0
}
