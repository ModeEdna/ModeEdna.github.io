{
 "cells": [
  {
   "cell_type": "raw",
   "metadata": {},
   "source": [
    "---\n",
    "pdf-engine: lualatex\n",
    "format:\n",
    "  html:\n",
    "    toc: true\n",
    "    code-fold: true\n",
    "    toc-title: Contents\n",
    "    number-sections: false\n",
    "execute:\n",
    "  echo: false\n",
    "---"
   ]
  },
  {
   "attachments": {},
   "cell_type": "markdown",
   "metadata": {},
   "source": [
    "# Packages Used\n",
    "This is a collection of some of the more relevant packages I've worked with. It is not an exclusive list; feel free to reach out with questions about my experience with other packages.\n",
    "\n",
    "***\n",
    "\n",
    "### Python\n",
    "\n",
    "```Pandas```\n",
    "\n",
    "Used in online courses, at work, and in grad school. \n",
    "\n",
    "```Numpy```\n",
    "\n",
    "Same as pandas, but mostly used it when working with predictive models (e.g. linear regression, Naive Bayes, etc.).\n",
    "\n",
    "```Matplotlib```\n",
    "\n",
    "I've used it from the beginning of my Data Science career. \n",
    "\n",
    "```Seaborn```\n",
    "\n",
    "Just like Matplotlib, I feel very comfortable creating plots using these packages.\n",
    "\n",
    "```Scikit-learn```\n",
    "\n",
    "I use this package for most, if not all, of the more straightforward models I've created (e.g. regression, clusterization, etc.).\n",
    "\n",
    "```Plotly```\n",
    "\n",
    "Used for my statistics class in grad school. Got an intro to interactive plots; I hope to get more exposure to it.\n",
    "\n",
    "```BeautifulSoup```\n",
    "\n",
    "Final projects for undergrad and grad school required me to do some web scraping.\n",
    "\n",
    "```re```\n",
    "\n",
    "NLP course required extensive cleaning of text data, which led me to the regex package.\n",
    "\n",
    "```Transformers``` \n",
    "\n",
    "Utilized this library in an Natural Language Processing class. I specifically used the BERT and GPT2 models for classification and text generation projects.\n",
    "\n",
    "```TensorFlow```\n",
    "\n",
    "Minimal exposure to this library. I had to work with it while creating the *Transformers* models.\n",
    "\n",
    "***\n",
    "\n",
    "### R\n",
    "\n",
    "```tidyr```\n",
    "\n",
    "Although I had experience with this library from the online courses I took, two of my first-semester courses from grad school ensured we used it on a weekly basis.\n",
    "\n",
    "```dplyr```\n",
    "\n",
    "Used it along with tidyr to clean the data we used and put in in *tidy* format.\n",
    "\n",
    "```ggplot2```\n",
    "\n",
    "Much like *Seaborn* with Python, I create most of my graphs and illustrations with this library.\n",
    "\n",
    "```rpart```\n",
    "\n",
    "Used it in one of my online courses to create classification and regression trees.\n",
    "\n",
    "```randomForest```\n",
    "\n",
    "Much like the name suggests, this libraries helps with creating random forests, although I have a preference for doing this in Python.\n",
    "\n",
    "```naivebayes```\n",
    "\n",
    "Again, as the library name suggests, I used this to create Naïve Bayes models."
   ]
  }
 ],
 "metadata": {
  "kernelspec": {
   "display_name": "ANLY501",
   "language": "python",
   "name": "python3"
  },
  "language_info": {
   "codemirror_mode": {
    "name": "ipython",
    "version": 3
   },
   "file_extension": ".py",
   "mimetype": "text/x-python",
   "name": "python",
   "nbconvert_exporter": "python",
   "pygments_lexer": "ipython3",
   "version": "3.10.4 (main, Mar 31 2022, 03:38:35) [Clang 12.0.0 ]"
  },
  "orig_nbformat": 4,
  "vscode": {
   "interpreter": {
    "hash": "6c72976fb237423a2a1d3151ac569995244a4a767dd0452f9a8ae3f982e3763a"
   }
  }
 },
 "nbformat": 4,
 "nbformat_minor": 2
}
