{
 "cells": [
  {
   "cell_type": "raw",
   "metadata": {},
   "source": [
    "---\n",
    "pdf-engine: lualatex\n",
    "format:\n",
    "  html:\n",
    "    toc: true\n",
    "    code-fold: true\n",
    "    toc-title: Contents\n",
    "    number-sections: false\n",
    "execute:\n",
    "  echo: false\n",
    "---"
   ]
  },
  {
   "attachments": {},
   "cell_type": "markdown",
   "metadata": {},
   "source": [
    "# Treasury Cash Prediction\n",
    "\n",
    "As a Mexican company, Xignux had most of its expenses in pesos, but it purchased dollars every three months for certain transactions that required using dollars. The problem with the purchases was that the company had to guess how many dollars would be needed and they would often over/underestimate by a considerable amount. \n",
    "\n",
    "I was tasked with creating a predictive model to minimize the error in estimates for dollar purchases. To do so, I employed a SARIMA model, since the data available to us was in the form of a time series. The result from the project was a decrease in MAPE from 30% to 10%, where the predictions came in the form of dollar amounts needed for each purchase.\n",
    "\n",
    "Unfortunately, I no longer have access to the data from the project, but you can find the code for the model in this [GitHub](https://github.com/ModeEdna/Xignux/tree/main/Xignux%20Code/Tesoreria) page."
   ]
  }
 ],
 "metadata": {
  "kernelspec": {
   "display_name": "ANLY501",
   "language": "python",
   "name": "python3"
  },
  "language_info": {
   "codemirror_mode": {
    "name": "ipython",
    "version": 3
   },
   "file_extension": ".py",
   "mimetype": "text/x-python",
   "name": "python",
   "nbconvert_exporter": "python",
   "pygments_lexer": "ipython3",
   "version": "3.10.4 (main, Mar 31 2022, 03:38:35) [Clang 12.0.0 ]"
  },
  "orig_nbformat": 4,
  "vscode": {
   "interpreter": {
    "hash": "6c72976fb237423a2a1d3151ac569995244a4a767dd0452f9a8ae3f982e3763a"
   }
  }
 },
 "nbformat": 4,
 "nbformat_minor": 2
}
