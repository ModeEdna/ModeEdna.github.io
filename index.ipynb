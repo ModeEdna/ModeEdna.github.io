{
 "cells": [
  {
   "cell_type": "raw",
   "metadata": {},
   "source": [
    "---\n",
    "pdf-engine: lualatex\n",
    "format:\n",
    "  html:\n",
    "    toc: true\n",
    "    code-fold: true\n",
    "    toc-title: Contents\n",
    "    bibliography: references.bib\n",
    "    number-sections: false\n",
    "execute:\n",
    "  echo: false\n",
    "---"
   ]
  },
  {
   "attachments": {},
   "cell_type": "markdown",
   "metadata": {},
   "source": [
    "## Home\n",
    "\n",
    "### About this page\n",
    "- The goal of this page is to tell you a bit about myself and to exhibit some of the projects I've worked on since I began my data science journey (circa 2020)\n",
    "- You will find some of the projects I've completed for online courses, work, and grad school\n",
    "- You can access my LinkedIn and GitHub pages from the top-left buttons\n",
    "- Feel free to change between dark and light themes using the toggle\n",
    "\n",
    "### Section descriptions\n",
    "The *About Me* section details exposure to packages I've used. It also contains my Résumé and contact info. The three other sections showcase some of the deliverables I've created, in reverse chronological order. The *Grad School* tab is from late 2022, the *Work* tab is from 2020 to early 2022, and the *Base Python* tab is from late 2021.\n",
    "\n",
    "### My trajectory\n",
    "As an undergrad, I studied Business Administration (INTL BUS & ISOM) and French Language and Literature. My program specializations taught me the importance of leveraging technology and data to grow a business, but it failed to build a mathematical foundation to help me understand the technical side of it all. This left me with a desire to dive deeper into the data world, so I decided to study Data Science in grad school. I hope to learn about different fields in this practice to get a holistic understanding of . After graduation, my intention is to work as a data scientist at a company that grants me creative freedom and encourages iterative data science, rather than linear problem solving.\n",
    "\n",
    "### Free time\n",
    "I spend it playing sports (mainly soccer and racket sports), video games, and reading. I have two dogs back at home, Coco and Pucca, who I spend most of my time with (when home) and now I've also adopted two kittens (Edna and Remy) to have with me in DC. Aside from all this, I greatly enjoy listening to and playing music; some of my favorite artists are Stromae, Yanni, and Hanz Zimmer."
   ]
  },
  {
   "cell_type": "markdown",
   "metadata": {},
   "source": []
  }
 ],
 "metadata": {
  "kernelspec": {
   "display_name": "Python 3.10.4 ('ANLY501')",
   "language": "python",
   "name": "python3"
  },
  "language_info": {
   "name": "python",
   "version": "3.10.4 (main, Mar 31 2022, 03:38:35) [Clang 12.0.0 ]"
  },
  "orig_nbformat": 4,
  "vscode": {
   "interpreter": {
    "hash": "6c72976fb237423a2a1d3151ac569995244a4a767dd0452f9a8ae3f982e3763a"
   }
  }
 },
 "nbformat": 4,
 "nbformat_minor": 2
}
